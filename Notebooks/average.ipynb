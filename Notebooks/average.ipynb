{
 "cells": [
  {
   "cell_type": "code",
   "execution_count": 1,
   "metadata": {},
   "outputs": [],
   "source": [
    "import numpy as np\n",
    "import cv2\n",
    "import glob\n",
    "import os\n",
    "import re\n",
    "import skimage"
   ]
  },
  {
   "cell_type": "code",
   "execution_count": 4,
   "metadata": {},
   "outputs": [],
   "source": [
    "dirs = [\n",
    "    '/home/dhruv/Cybergut/experiments/18-11-11/step62/stiched',\n",
    "    '/home/dhruv/Cybergut/experiments/18-11-05/step3499/stiched'\n",
    "]\n",
    "#probs = [1/len(dirs)]*len(dirs) #uniform for now\n",
    "probs = [.4, .6]"
   ]
  },
  {
   "cell_type": "code",
   "execution_count": 5,
   "metadata": {},
   "outputs": [
    {
     "data": {
      "text/plain": [
       "['C - 2(fld 10 wv TL-Brightfield - dsRed)_0',\n",
       " 'D - 1(fld 11 wv TL-Brightfield - dsRed)_0',\n",
       " 'E - 2(fld 12 wv TL-Brightfield - dsRed)_0',\n",
       " 'F - 3(fld 05 wv TL-Brightfield - dsRed)_0',\n",
       " 'C - 3(fld 08 wv TL-Brightfield - dsRed)_0']"
      ]
     },
     "execution_count": 5,
     "metadata": {},
     "output_type": "execute_result"
    }
   ],
   "source": [
    "image_names = [os.path.basename(x) for x in glob.glob(dirs[0]+'/*')]\n",
    "image_names[:5]"
   ]
  },
  {
   "cell_type": "code",
   "execution_count": 6,
   "metadata": {},
   "outputs": [
    {
     "name": "stderr",
     "output_type": "stream",
     "text": [
      "/home/dhruv/.local/lib/python3.7/site-packages/skimage/util/dtype.py:141: UserWarning: Possible precision loss when converting from float64 to uint8\n",
      "  .format(dtypeobj_in, dtypeobj_out))\n"
     ]
    }
   ],
   "source": [
    "for image in image_names:\n",
    "    final = np.zeros((2064, 2064))\n",
    "    for d, p in zip(dirs, probs):\n",
    "        final += p*np.load(d+'/'+image+'/probs_fg.npy')\n",
    "    tmp = skimage.img_as_ubyte(final)\n",
    "    tmp = cv2.applyColorMap(tmp, cv2.COLORMAP_JET)\n",
    "    cv2.imwrite('/home/dhruv/Cybergut/experiments/18-11-11/average/'+image[:-2]+'.png', tmp)"
   ]
  },
  {
   "cell_type": "code",
   "execution_count": 13,
   "metadata": {},
   "outputs": [
    {
     "data": {
      "text/plain": [
       "(2064, 2064)"
      ]
     },
     "execution_count": 13,
     "metadata": {},
     "output_type": "execute_result"
    }
   ],
   "source": [
    "final.shape"
   ]
  },
  {
   "cell_type": "code",
   "execution_count": null,
   "metadata": {},
   "outputs": [],
   "source": []
  }
 ],
 "metadata": {
  "kernelspec": {
   "display_name": "Python 3",
   "language": "python",
   "name": "python3"
  },
  "language_info": {
   "codemirror_mode": {
    "name": "ipython",
    "version": 3
   },
   "file_extension": ".py",
   "mimetype": "text/x-python",
   "name": "python",
   "nbconvert_exporter": "python",
   "pygments_lexer": "ipython3",
   "version": "3.7.1"
  }
 },
 "nbformat": 4,
 "nbformat_minor": 2
}
