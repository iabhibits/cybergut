{
 "cells": [
  {
   "cell_type": "code",
   "execution_count": 1,
   "metadata": {},
   "outputs": [],
   "source": [
    "%load_ext autoreload\n",
    "%autoreload 2"
   ]
  },
  {
   "cell_type": "code",
   "execution_count": 2,
   "metadata": {},
   "outputs": [],
   "source": [
    "from utils import roi\n",
    "import cv2\n",
    "from skimage import io, draw, morphology\n",
    "import os\n",
    "import glob\n",
    "import numpy as np"
   ]
  },
  {
   "cell_type": "code",
   "execution_count": 16,
   "metadata": {},
   "outputs": [],
   "source": [
    "#roi_dir = '/run/media/dhruv/Hufflepuff/Data/20-9-18/HEK293EH187prefors_1/ROI/'\n",
    "roi_dir = '/home/dhruv/Cybergut/Data/09-10-18/rois/HEK293E_hGCC_FG3_NoST/'\n",
    "mask_dir = '/home/dhruv/Cybergut/Data/09-10-18/HEK293E_hGCC_FG3_48WP/HEK293E_hGCC_FG3_NoST/HEK293E_hGCC_FG3_NoST_9/Masks'\n",
    "\n",
    "rois = glob.glob(os.path.join(roi_dir, '*.zip'))"
   ]
  },
  {
   "cell_type": "markdown",
   "metadata": {},
   "source": [
    "# Black & White"
   ]
  },
  {
   "cell_type": "code",
   "execution_count": null,
   "metadata": {},
   "outputs": [],
   "source": []
  },
  {
   "cell_type": "markdown",
   "metadata": {},
   "source": [
    "# Color"
   ]
  },
  {
   "cell_type": "code",
   "execution_count": 2,
   "metadata": {},
   "outputs": [],
   "source": [
    "BG = 0\n",
    "FG = 1\n",
    "BD = 2"
   ]
  },
  {
   "cell_type": "code",
   "execution_count": 8,
   "metadata": {},
   "outputs": [
    {
     "data": {
      "text/plain": [
       "['/home/dhruv/Cybergut/Data/09-10-18/rois/HEK293E_hGCC_FG3_NoST/A - 1(fld 06 wv TL-Brightfield - dsRed).zip',\n",
       " '/home/dhruv/Cybergut/Data/09-10-18/rois/HEK293E_hGCC_FG3_NoST/A - 1(fld 01 wv TL-Brightfield - dsRed).zip']"
      ]
     },
     "execution_count": 8,
     "metadata": {},
     "output_type": "execute_result"
    }
   ],
   "source": [
    "rois = glob.glob(os.path.join(roi_dir, '*.zip'))\n",
    "rois[:2]"
   ]
  },
  {
   "cell_type": "code",
   "execution_count": 19,
   "metadata": {},
   "outputs": [
    {
     "name": "stdout",
     "output_type": "stream",
     "text": [
      "/home/dhruv/Cybergut/Data/09-10-18/rois/HEK293E_hGCC_FG3_NoST/A - 1(fld 06 wv TL-Brightfield - dsRed).zip\n",
      "/home/dhruv/Cybergut/Data/09-10-18/rois/HEK293E_hGCC_FG3_NoST/A - 1(fld 01 wv TL-Brightfield - dsRed).zip\n",
      "/home/dhruv/Cybergut/Data/09-10-18/rois/HEK293E_hGCC_FG3_NoST/A - 1(fld 08 wv TL-Brightfield - dsRed).zip\n",
      "/home/dhruv/Cybergut/Data/09-10-18/rois/HEK293E_hGCC_FG3_NoST/A - 1(fld 03 wv TL-Brightfield - dsRed).zip\n",
      "/home/dhruv/Cybergut/Data/09-10-18/rois/HEK293E_hGCC_FG3_NoST/A - 1(fld 04 wv TL-Brightfield - dsRed).zip\n",
      "/home/dhruv/Cybergut/Data/09-10-18/rois/HEK293E_hGCC_FG3_NoST/A - 1(fld 07 wv TL-Brightfield - dsRed).zip\n"
     ]
    }
   ],
   "source": [
    "count = [0,0,0]\n",
    "for r in rois:\n",
    "    base = os.path.basename(r)\n",
    "    base = base.replace('.zip', '.png')\n",
    "    print(r)\n",
    "    img = roi.create_color_mask(roi.get_polygons(r), 2048, 5, False)\n",
    "    cv2.imwrite(os.path.join(mask_dir, base), img)\n",
    "    nimg = img.argmax(axis=2)\n",
    "    u, c = np.unique(nimg, return_counts=True)\n",
    "    for i in range(3):\n",
    "        count[u[i]] += c[i]"
   ]
  },
  {
   "cell_type": "code",
   "execution_count": 13,
   "metadata": {},
   "outputs": [
    {
     "data": {
      "text/plain": [
       "[37059486, 17648673, 4012097]"
      ]
     },
     "execution_count": 13,
     "metadata": {},
     "output_type": "execute_result"
    }
   ],
   "source": [
    "count"
   ]
  },
  {
   "cell_type": "code",
   "execution_count": 18,
   "metadata": {},
   "outputs": [
    {
     "data": {
      "text/plain": [
       "[37059486, 17648673, 4012097]"
      ]
     },
     "execution_count": 18,
     "metadata": {},
     "output_type": "execute_result"
    }
   ],
   "source": [
    "count"
   ]
  },
  {
   "cell_type": "code",
   "execution_count": 22,
   "metadata": {},
   "outputs": [
    {
     "data": {
      "text/plain": [
       "(True, True, True)"
      ]
     },
     "execution_count": 22,
     "metadata": {},
     "output_type": "execute_result"
    }
   ],
   "source": [
    "bg, fg, bd = count\n",
    "bg > fg, bg > bd, fg > bd"
   ]
  },
  {
   "cell_type": "code",
   "execution_count": 24,
   "metadata": {},
   "outputs": [
    {
     "data": {
      "text/plain": [
       "(0.6311192853110177, 0.30055510997772217, 0.06832560471126012)"
      ]
     },
     "execution_count": 24,
     "metadata": {},
     "output_type": "execute_result"
    }
   ],
   "source": [
    "n = bg+fg+bd\n",
    "bg/n, fg/n, bd/n"
   ]
  },
  {
   "cell_type": "code",
   "execution_count": 27,
   "metadata": {},
   "outputs": [
    {
     "data": {
      "text/plain": [
       "1.0"
      ]
     },
     "execution_count": 27,
     "metadata": {},
     "output_type": "execute_result"
    }
   ],
   "source": [
    ".07+.30+.63"
   ]
  },
  {
   "cell_type": "markdown",
   "metadata": {},
   "source": [
    "# Separate borders for each Cell, 512x512 patches\n",
    "To be used for creating weightmaps"
   ]
  },
  {
   "cell_type": "code",
   "execution_count": 10,
   "metadata": {},
   "outputs": [],
   "source": [
    "#mask_dir = '/run/media/dhruv/Hufflepuff/Data/20-9-18/processed/groundtruth/512Patches/boundries1'\n",
    "mask_dir='/home/dhruv/Cybergut/Data/09-10-18/patches/Boundries'\n",
    "os.makedirs(mask_dir,exist_ok=True)"
   ]
  },
  {
   "cell_type": "code",
   "execution_count": 11,
   "metadata": {},
   "outputs": [
    {
     "data": {
      "text/plain": [
       "['/run/media/dhruv/Hufflepuff/Data/20-9-18/HEK293EH187prefors_1/ROI/B - 3(fld 01 wv TL-Brightfield - dsRed).zip',\n",
       " '/run/media/dhruv/Hufflepuff/Data/20-9-18/HEK293EH187prefors_1/ROI/B - 3(fld 02 wv TL-Brightfield - dsRed).zip']"
      ]
     },
     "execution_count": 11,
     "metadata": {},
     "output_type": "execute_result"
    }
   ],
   "source": [
    "rois[:2]"
   ]
  },
  {
   "cell_type": "code",
   "execution_count": 12,
   "metadata": {},
   "outputs": [
    {
     "name": "stdout",
     "output_type": "stream",
     "text": [
      "Processing B - 3(fld 01 wv TL-Brightfield - dsRed)\n",
      "Processing B - 3(fld 02 wv TL-Brightfield - dsRed)\n",
      "Processing B - 3(fld 03 wv TL-Brightfield - dsRed)\n",
      "Processing B - 3(fld 04 wv TL-Brightfield - dsRed)\n",
      "Processing B - 3(fld 05 wv TL-Brightfield - dsRed)\n",
      "Processing B - 3(fld 06 wv TL-Brightfield - dsRed)\n",
      "Processing B - 3(fld 07 wv TL-Brightfield - dsRed)\n",
      "Processing B - 3(fld 08 wv TL-Brightfield - dsRed)\n",
      "Processing B - 3(fld 09 wv TL-Brightfield - dsRed)\n",
      "Processing B - 3(fld 10 wv TL-Brightfield - dsRed)\n",
      "Processing B - 3(fld 11 wv TL-Brightfield - dsRed)\n",
      "Processing B - 3(fld 12 wv TL-Brightfield - dsRed)\n",
      "Processing B - 3(fld 13 wv TL-Brightfield - dsRed)\n",
      "Processing B - 3(fld 14 wv TL-Brightfield - dsRed)\n"
     ]
    }
   ],
   "source": [
    "for r in rois:\n",
    "    boundaries = []\n",
    "    base = os.path.basename(r)[:-4]\n",
    "    print(f\"Processing {base}\")\n",
    "    polies = roi.get_polygons(r, True)\n",
    "    xys = [(d['x'], d['y']) for d in polies]\n",
    "    mask, bdrs = roi.create_maskv2(xys, 2048, True, 2)\n",
    "    dist = 256\n",
    "    npatches_h = 7\n",
    "    npatches_v = 7\n",
    "    basedir = os.path.join(mask_dir, base)\n",
    "    os.makedirs(basedir,exist_ok=True)\n",
    "    i = -1\n",
    "    for r in (dist*i for i in range(npatches_v)):\n",
    "        for c in (dist*i for i in range(npatches_h)):\n",
    "            i += 1\n",
    "            subbasepath = os.path.join(basedir, f'{base}_{i}')\n",
    "            os.makedirs(subbasepath, exist_ok=True)\n",
    "            j = 0\n",
    "            crop = mask[r:r+512, c:c+512]\n",
    "            cv2.imwrite(subbasepath+'/mask.png',crop)\n",
    "            for bdr, poly in zip(bdrs, polies):\n",
    "                top, left = poly['tl']\n",
    "                bottom, right = poly['br']\n",
    "                if right < c or left >= c+512 or bottom < r or top >= r+512:\n",
    "                    continue\n",
    "                crop = bdr[r:r+512, c:c+512]\n",
    "                cv2.imwrite(subbasepath + f'/{j}.png', crop)\n",
    "                j += 1"
   ]
  },
  {
   "cell_type": "markdown",
   "metadata": {},
   "source": [
    "# Color with DeadCells as well as Halfcells and original"
   ]
  },
  {
   "cell_type": "code",
   "execution_count": 4,
   "metadata": {},
   "outputs": [],
   "source": [
    "roi_dir = '/run/media/dhruv/Hufflepuff/Data/20-9-18/HEK293EH187prefors_1/ROI/all'\n",
    "mask_dir = ''"
   ]
  },
  {
   "cell_type": "code",
   "execution_count": 6,
   "metadata": {},
   "outputs": [
    {
     "data": {
      "text/plain": [
       "['/run/media/dhruv/Hufflepuff/Data/20-9-18/HEK293EH187prefors_1/ROI/all/B - 3(fld 01 wv TL-Brightfield - dsRed).zip',\n",
       " '/run/media/dhruv/Hufflepuff/Data/20-9-18/HEK293EH187prefors_1/ROI/all/B - 3(fld 02 wv TL-Brightfield - dsRed).zip']"
      ]
     },
     "execution_count": 6,
     "metadata": {},
     "output_type": "execute_result"
    }
   ],
   "source": [
    "rois = glob.glob(os.path.join(roi_dir, '*.zip'))\n",
    "rois[:2]"
   ]
  },
  {
   "cell_type": "code",
   "execution_count": 10,
   "metadata": {},
   "outputs": [],
   "source": [
    "for r in rois:\n",
    "    base = os.path.basename(r)\n",
    "    base = base.replace('.zip', '.png')\n",
    "    img = roi.create_color_mask(roi.get_polygons(r), 2048, 5, False)\n",
    "    cv2.imwrite(os.path.join('/tmp', base), img)"
   ]
  },
  {
   "cell_type": "code",
   "execution_count": 9,
   "metadata": {},
   "outputs": [
    {
     "data": {
      "text/plain": [
       "(0.57025865146092, 0.3462242569242205, 0.08351709161485944)"
      ]
     },
     "execution_count": 9,
     "metadata": {},
     "output_type": "execute_result"
    }
   ],
   "source": []
  },
  {
   "cell_type": "markdown",
   "metadata": {},
   "source": [
    "# HEC293 NoST"
   ]
  },
  {
   "cell_type": "code",
   "execution_count": 6,
   "metadata": {},
   "outputs": [],
   "source": [
    "roi_dir = '/home/dhruv/Cybergut/Data/09-10-18/raw/roi/'\n",
    "mask_dir = '/home/dhruv/Cybergut/Data/09-10-18/raw/masks/'\n",
    "\n",
    "rois = glob.glob(os.path.join(roi_dir, '*.zip'))"
   ]
  },
  {
   "cell_type": "code",
   "execution_count": 7,
   "metadata": {},
   "outputs": [
    {
     "data": {
      "text/plain": [
       "['/home/dhruv/Cybergut/Data/09-10-18/raw/roi/A - 1(fld 06 wv TL-Brightfield - dsRed).zip',\n",
       " '/home/dhruv/Cybergut/Data/09-10-18/raw/roi/B - 3(fld 08 wv TL-Brightfield - dsRed).zip',\n",
       " '/home/dhruv/Cybergut/Data/09-10-18/raw/roi/A - 1(fld 01 wv TL-Brightfield - dsRed).zip',\n",
       " '/home/dhruv/Cybergut/Data/09-10-18/raw/roi/A - 1(fld 08 wv TL-Brightfield - dsRed).zip',\n",
       " '/home/dhruv/Cybergut/Data/09-10-18/raw/roi/A - 1(fld 03 wv TL-Brightfield - dsRed).zip',\n",
       " '/home/dhruv/Cybergut/Data/09-10-18/raw/roi/B - 3(fld 07 wv TL-Brightfield - dsRed).zip',\n",
       " '/home/dhruv/Cybergut/Data/09-10-18/raw/roi/B - 3(fld 14 wv TL-Brightfield - dsRed).zip',\n",
       " '/home/dhruv/Cybergut/Data/09-10-18/raw/roi/B - 3(fld 01 wv TL-Brightfield - dsRed).zip',\n",
       " '/home/dhruv/Cybergut/Data/09-10-18/raw/roi/A - 1(fld 04 wv TL-Brightfield - dsRed).zip',\n",
       " '/home/dhruv/Cybergut/Data/09-10-18/raw/roi/A - 1(fld 07 wv TL-Brightfield - dsRed).zip']"
      ]
     },
     "execution_count": 7,
     "metadata": {},
     "output_type": "execute_result"
    }
   ],
   "source": [
    "rois"
   ]
  },
  {
   "cell_type": "code",
   "execution_count": 8,
   "metadata": {},
   "outputs": [],
   "source": [
    "for r in rois:\n",
    "    base = os.path.basename(r)\n",
    "    base = base.replace('.zip', '.png')\n",
    "    img = roi.create_color_mask(roi.get_polygons(r), 2048, 5, False)\n",
    "    cv2.imwrite(os.path.join(mask_dir, base), img)"
   ]
  },
  {
   "cell_type": "code",
   "execution_count": null,
   "metadata": {},
   "outputs": [],
   "source": []
  }
 ],
 "metadata": {
  "kernelspec": {
   "display_name": "Python 3",
   "language": "python",
   "name": "python3"
  },
  "language_info": {
   "codemirror_mode": {
    "name": "ipython",
    "version": 3
   },
   "file_extension": ".py",
   "mimetype": "text/x-python",
   "name": "python",
   "nbconvert_exporter": "python",
   "pygments_lexer": "ipython3",
   "version": "3.7.1"
  }
 },
 "nbformat": 4,
 "nbformat_minor": 2
}
