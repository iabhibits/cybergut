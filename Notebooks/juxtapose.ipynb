{
 "cells": [
  {
   "cell_type": "code",
   "execution_count": 40,
   "metadata": {},
   "outputs": [],
   "source": [
    "import cv2\n",
    "from skimage import io, exposure, color, img_as_uint, img_as_float\n",
    "import numpy as np\n",
    "import os\n",
    "import re\n"
   ]
  },
  {
   "cell_type": "code",
   "execution_count": 2,
   "metadata": {},
   "outputs": [],
   "source": [
    "files_path = '/home/dhruv/Projects/cybergut/Results/2-3-Up/extracted_cells/unseen.txt'\n",
    "with open(files_path) as f:\n",
    "    files = list(map(str.strip, f.readlines()))"
   ]
  },
  {
   "cell_type": "code",
   "execution_count": 5,
   "metadata": {},
   "outputs": [
    {
     "name": "stdout",
     "output_type": "stream",
     "text": [
      "/run/media/dhruv/Gryffindor/Project/Results/2-3-Up\n"
     ]
    }
   ],
   "source": [
    "cd /home/dhruv/Projects/cybergut/Results/2-3-Up/"
   ]
  },
  {
   "cell_type": "code",
   "execution_count": 6,
   "metadata": {},
   "outputs": [],
   "source": [
    "import re\n",
    "reg = re.compile('TL-Brightfield - dsRed')"
   ]
  },
  {
   "cell_type": "code",
   "execution_count": 42,
   "metadata": {},
   "outputs": [
    {
     "name": "stderr",
     "output_type": "stream",
     "text": [
      "/home/dhruv/.local/lib/python3.7/site-packages/skimage/util/dtype.py:130: UserWarning: Possible precision loss when converting from float64 to uint8\n",
      "  .format(dtypeobj_in, dtypeobj_out))\n"
     ]
    }
   ],
   "source": [
    "for file in files:\n",
    "    bf = io.imread(f'extracted_cells/{file}/original.png')\n",
    "    df_name = reg.sub('UV - DAPI', file)\n",
    "    df = io.imread(f'dapi/{df_name}.png')\n",
    "    bf = color.gray2rgb(bf)\n",
    "    df = color.gray2rgb(df)\n",
    "    msk = io.imread(f'extracted_cells/{file}/mask.png')\n",
    "    msk = color.gray2rgb(msk)\n",
    "    oly = io.imread(f'extracted_cells/{file}/overlay.png')\n",
    "    img1 = img_as_float(np.concatenate((bf, df), axis=1))\n",
    "    img2 = img_as_float(np.concatenate((oly, msk), axis=1))\n",
    "    img = np.concatenate((img1, img2), axis=0)\n",
    "    io.imsave(f'juxtaposed/{file}.png', img)\n",
    "    "
   ]
  },
  {
   "cell_type": "markdown",
   "metadata": {},
   "source": [
    "# Training Images"
   ]
  },
  {
   "cell_type": "code",
   "execution_count": 44,
   "metadata": {},
   "outputs": [],
   "source": [
    "files_path = '/home/dhruv/Projects/cybergut/Results/2-3-Up/extracted_cells/train.txt'\n",
    "with open(files_path) as f:\n",
    "    files = list(map(str.strip, f.readlines()))"
   ]
  },
  {
   "cell_type": "code",
   "execution_count": 49,
   "metadata": {},
   "outputs": [
    {
     "name": "stderr",
     "output_type": "stream",
     "text": [
      "/home/dhruv/.local/lib/python3.7/site-packages/skimage/util/dtype.py:130: UserWarning: Possible precision loss when converting from float64 to uint8\n",
      "  .format(dtypeobj_in, dtypeobj_out))\n"
     ]
    }
   ],
   "source": [
    "for file in files:\n",
    "    bf = io.imread(f'extracted_cells/{file}/original.png')\n",
    "    df_name = reg.sub('UV - DAPI', file)\n",
    "    df = io.imread(f'dapi/{df_name}.png')\n",
    "    bf = color.gray2rgb(bf)\n",
    "    df = color.gray2rgb(df)\n",
    "    omsk = io.imread(f'Original/{file}.png')\n",
    "    omsk = cv2.resize(omsk, (512, 512), None, interpolation=cv2.INTER_AREA)\n",
    "    omsk = color.gray2rgb(img_as_uint(omsk))\n",
    "    \n",
    "    msk = io.imread(f'extracted_cells/{file}/mask.png')\n",
    "    msk = color.gray2rgb(msk)\n",
    "    oly = io.imread(f'extracted_cells/{file}/overlay.png')\n",
    "    img1 = img_as_float(np.concatenate((bf, df, omsk), axis=1))\n",
    "    img2 = img_as_float(np.concatenate((oly,  np.zeros_like(msk), msk), axis=1))\n",
    "    img = np.concatenate((img1, img2), axis=0)\n",
    "    io.imsave(f'train_juxtaposed/{file}.png', img)\n",
    "    "
   ]
  },
  {
   "cell_type": "code",
   "execution_count": null,
   "metadata": {},
   "outputs": [],
   "source": []
  }
 ],
 "metadata": {
  "kernelspec": {
   "display_name": "Python 3",
   "language": "python",
   "name": "python3"
  },
  "language_info": {
   "codemirror_mode": {
    "name": "ipython",
    "version": 3
   },
   "file_extension": ".py",
   "mimetype": "text/x-python",
   "name": "python",
   "nbconvert_exporter": "python",
   "pygments_lexer": "ipython3",
   "version": "3.7.0"
  }
 },
 "nbformat": 4,
 "nbformat_minor": 2
}
