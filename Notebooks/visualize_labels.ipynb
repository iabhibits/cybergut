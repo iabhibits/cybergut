{
 "cells": [
  {
   "cell_type": "code",
   "execution_count": 2,
   "metadata": {},
   "outputs": [],
   "source": [
    "import cv2\n",
    "from skimage import io, exposure\n",
    "import numpy as np\n",
    "import glob\n",
    "import os"
   ]
  },
  {
   "cell_type": "code",
   "execution_count": 9,
   "metadata": {},
   "outputs": [],
   "source": [
    "root = '/home/dhruv/Projects/cybergut/Data/Prof_Ambedkar_Sandhya_shared_data/cAcO2-h187-post-50-uMFORS_1/'\n",
    "ptrn = r'*01 - 0 ms*.tif'"
   ]
  },
  {
   "cell_type": "code",
   "execution_count": 11,
   "metadata": {},
   "outputs": [],
   "source": [
    "rois = glob.glob(os.path.join(root, 'ROI', '0 ms', '*zip'))"
   ]
  },
  {
   "cell_type": "code",
   "execution_count": 13,
   "metadata": {},
   "outputs": [
    {
     "name": "stdout",
     "output_type": "stream",
     "text": [
      "/run/media/dhruv/Gryffindor/Project/Cybergut/Implementation\n"
     ]
    }
   ],
   "source": [
    "cd ../"
   ]
  },
  {
   "cell_type": "code",
   "execution_count": 15,
   "metadata": {},
   "outputs": [],
   "source": [
    "from utils import roi"
   ]
  },
  {
   "cell_type": "code",
   "execution_count": 16,
   "metadata": {},
   "outputs": [],
   "source": [
    "import re"
   ]
  },
  {
   "cell_type": "code",
   "execution_count": 19,
   "metadata": {},
   "outputs": [],
   "source": [
    "reg = re.compile(r'UV - FITC')"
   ]
  },
  {
   "cell_type": "code",
   "execution_count": 20,
   "metadata": {},
   "outputs": [],
   "source": [
    "channels = ['TL-Brightfield - dsRed', 'UV - FITC', 'UV - DAPI']"
   ]
  },
  {
   "cell_type": "code",
   "execution_count": 73,
   "metadata": {},
   "outputs": [],
   "source": [
    "for file in rois:\n",
    "    bname = os.path.basename(file[:-4])\n",
    "    fname = bname+'.tif'\n",
    "    polies = roi.get_polygons(file)\n",
    "    imgs = [cv2.imread(root+'/'+reg.sub(c, fname), cv2.IMREAD_ANYDEPTH) for c in channels]\n",
    "    imgs = [cv2.normalize(img, None, 0, 2**16-1, norm_type=cv2.NORM_MINMAX) for img in imgs]\n",
    "    for xy in polies:\n",
    "        pts = np.vstack(xy).T.reshape(-1, 1, 2)\n",
    "        for img in imgs:\n",
    "            cv2.polylines(img, [pts], True, 2**16-1, 3)\n",
    "    imgs = [cv2.resize(img, (512, 512), None, interpolation=cv2.INTER_AREA) for img in imgs]\n",
    "    bimg = np.zeros((1024, 1024), np.uint16)\n",
    "    bimg[0:512, 0:512] = imgs[0]\n",
    "    bimg[0:512, 512:] = imgs[1]\n",
    "    bimg[512:, 0:512] = imgs[2]\n",
    "    cv2.imwrite(f'/tmp/{bname}.png', bimg)"
   ]
  }
 ],
 "metadata": {
  "kernelspec": {
   "display_name": "Python 3",
   "language": "python",
   "name": "python3"
  },
  "language_info": {
   "codemirror_mode": {
    "name": "ipython",
    "version": 3
   },
   "file_extension": ".py",
   "mimetype": "text/x-python",
   "name": "python",
   "nbconvert_exporter": "python",
   "pygments_lexer": "ipython3",
   "version": "3.7.0"
  }
 },
 "nbformat": 4,
 "nbformat_minor": 2
}
