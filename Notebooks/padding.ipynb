{
 "cells": [
  {
   "cell_type": "code",
   "execution_count": 53,
   "metadata": {},
   "outputs": [],
   "source": [
    "import torch\n",
    "from torch.nn import functional as F\n",
    "from torchvision.transforms import ToTensor, ToPILImage\n",
    "from PIL import Image\n",
    "import numpy as np\n",
    "import cv2\n",
    "import glob\n",
    "import os"
   ]
  },
  {
   "cell_type": "code",
   "execution_count": 29,
   "metadata": {},
   "outputs": [],
   "source": [
    "img_dir = '/home/dhruv/Cybergut/Data/09-10-18/raw'\n",
    "sav_dir = '/home/dhruv/Cybergut/Data/09-10-18/raw/padded/'"
   ]
  },
  {
   "cell_type": "code",
   "execution_count": 27,
   "metadata": {},
   "outputs": [],
   "source": [
    "imgs = glob.glob(img_dir+'/*.png')\n",
    "padd = torch.nn.ReflectionPad2d(94)"
   ]
  },
  {
   "cell_type": "code",
   "execution_count": 28,
   "metadata": {},
   "outputs": [],
   "source": [
    "for img_name in imgs:\n",
    "    img = cv2.imread(img_name)\n",
    "    img = torch.from_numpy(img.astype(np.float))[None][None]\n",
    "    nimg = padd(img)\n",
    "    cv2.imwrite(sav_dir+os.path.basename(img_name), nimg[0][0].numpy().astype(np.uint16))"
   ]
  },
  {
   "cell_type": "code",
   "execution_count": 21,
   "metadata": {},
   "outputs": [
    {
     "data": {
      "text/plain": [
       "torch.Size([1, 1024, 1024])"
      ]
     },
     "execution_count": 21,
     "metadata": {},
     "output_type": "execute_result"
    }
   ],
   "source": [
    "img.shape"
   ]
  },
  {
   "cell_type": "markdown",
   "metadata": {},
   "source": [
    "# RGB"
   ]
  },
  {
   "cell_type": "code",
   "execution_count": 30,
   "metadata": {},
   "outputs": [],
   "source": [
    "img_dir = '/home/dhruv/Cybergut/Data/09-10-18/raw/masks/'\n",
    "sav_dir = '/home/dhruv/Cybergut/Data/09-10-18/raw/padded/masks/'"
   ]
  },
  {
   "cell_type": "code",
   "execution_count": 57,
   "metadata": {},
   "outputs": [],
   "source": [
    "imgs = glob.glob(img_dir+'*.png')\n",
    "padd = torch.nn.ReflectionPad2d(94)\n",
    "TT = ToTensor()\n",
    "TP = ToPILImage()"
   ]
  },
  {
   "cell_type": "code",
   "execution_count": 45,
   "metadata": {},
   "outputs": [],
   "source": [
    "img = cv2.imread(imgs[0])"
   ]
  },
  {
   "cell_type": "code",
   "execution_count": 59,
   "metadata": {},
   "outputs": [],
   "source": [
    "for img_name in imgs:\n",
    "    pil = Image.open(img_name)\n",
    "    img = TT(pil)[None]\n",
    "    nimg = padd(img)\n",
    "    pil = TP(nimg[0])\n",
    "    pil.save(sav_dir+os.path.basename(img_name))"
   ]
  },
  {
   "cell_type": "code",
   "execution_count": null,
   "metadata": {},
   "outputs": [],
   "source": [
    "padd(TT(img[None]))"
   ]
  },
  {
   "cell_type": "code",
   "execution_count": null,
   "metadata": {},
   "outputs": [],
   "source": []
  }
 ],
 "metadata": {
  "kernelspec": {
   "display_name": "Python 3",
   "language": "python",
   "name": "python3"
  },
  "language_info": {
   "codemirror_mode": {
    "name": "ipython",
    "version": 3
   },
   "file_extension": ".py",
   "mimetype": "text/x-python",
   "name": "python",
   "nbconvert_exporter": "python",
   "pygments_lexer": "ipython3",
   "version": "3.7.1"
  }
 },
 "nbformat": 4,
 "nbformat_minor": 2
}
