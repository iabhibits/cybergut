{
 "cells": [
  {
   "cell_type": "code",
   "execution_count": 1,
   "metadata": {},
   "outputs": [],
   "source": [
    "import utils\n",
    "import cv2\n",
    "import skimage\n",
    "import numpy as np\n",
    "import matplotlib.pyplot as plt"
   ]
  },
  {
   "cell_type": "code",
   "execution_count": null,
   "metadata": {},
   "outputs": [],
   "source": []
  },
  {
   "cell_type": "code",
   "execution_count": 16,
   "metadata": {},
   "outputs": [],
   "source": [
    "wth = np.load('/home/dhruv/Cybergut/experiments/24-09-18/valid111_wi.npy')\n",
    "wthout = np.load('/home/dhruv/Cybergut/experiments/24-09-18/valid111_wo.npy')\n",
    "wth = wth[None]\n",
    "wthout = wthout[None]"
   ]
  },
  {
   "cell_type": "code",
   "execution_count": 21,
   "metadata": {},
   "outputs": [],
   "source": [
    "orig = cv2.imread('/home/dhruv/Cybergut/experiments/24-09-18/valid_mask.png')\n",
    "orig = cv2.resize(orig, (2064, 2064), None)\n",
    "orig = orig.argmax(-1)\n",
    "orig[orig == 2] = 0\n",
    "orig = orig[None]"
   ]
  },
  {
   "cell_type": "markdown",
   "metadata": {},
   "source": [
    "# 68 Channels"
   ]
  },
  {
   "cell_type": "code",
   "execution_count": 49,
   "metadata": {},
   "outputs": [
    {
     "name": "stdout",
     "output_type": "stream",
     "text": [
      "[0.65641933]\n",
      "[0.537409]\n",
      "[0.42078446]\n"
     ]
    }
   ],
   "source": [
    "p8 = wth >= .8\n",
    "p9 = wth >= .9\n",
    "p5 = wth >= .5\n",
    "\n",
    "for img in [p5, p8, p9]:\n",
    "    print(utils.IoUv2(img, orig))"
   ]
  },
  {
   "cell_type": "code",
   "execution_count": 42,
   "metadata": {},
   "outputs": [
    {
     "data": {
      "text/plain": [
       "array([0.42078446])"
      ]
     },
     "execution_count": 42,
     "metadata": {},
     "output_type": "execute_result"
    }
   ],
   "source": [
    "utils.IoUv2(p9.astype(np.uint8), orig)"
   ]
  },
  {
   "cell_type": "markdown",
   "metadata": {},
   "source": [
    "# 64 Channels"
   ]
  },
  {
   "cell_type": "code",
   "execution_count": 48,
   "metadata": {},
   "outputs": [
    {
     "name": "stdout",
     "output_type": "stream",
     "text": [
      "[0.6499681]\n",
      "[0.48900988]\n",
      "[0.37611866]\n"
     ]
    }
   ],
   "source": [
    "p8 = wthout >= .8\n",
    "p9 = wthout >= .9\n",
    "p5 = wthout >= .5\n",
    "\n",
    "for img in [p5, p8, p9]:\n",
    "    print(utils.IoUv2(img, orig))"
   ]
  },
  {
   "cell_type": "code",
   "execution_count": null,
   "metadata": {},
   "outputs": [],
   "source": []
  }
 ],
 "metadata": {
  "kernelspec": {
   "display_name": "Python 3",
   "language": "python",
   "name": "python3"
  },
  "language_info": {
   "codemirror_mode": {
    "name": "ipython",
    "version": 3
   },
   "file_extension": ".py",
   "mimetype": "text/x-python",
   "name": "python",
   "nbconvert_exporter": "python",
   "pygments_lexer": "ipython3",
   "version": "3.7.1"
  }
 },
 "nbformat": 4,
 "nbformat_minor": 2
}
