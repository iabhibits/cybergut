{
 "cells": [
  {
   "cell_type": "code",
   "execution_count": 30,
   "metadata": {},
   "outputs": [],
   "source": [
    "import cv2 \n",
    "from skimage import io, exposure, transform\n",
    "import numpy as np\n",
    "import os"
   ]
  },
  {
   "cell_type": "code",
   "execution_count": 2,
   "metadata": {},
   "outputs": [],
   "source": [
    "root = '/home/dhruv/Projects/cybergut/Cybergut/Data/9Sep16_Data/nofors/'"
   ]
  },
  {
   "cell_type": "code",
   "execution_count": 3,
   "metadata": {},
   "outputs": [],
   "source": [
    "channels = ['TL-Brightfield - dsRed', 'UV - DAPI']"
   ]
  },
  {
   "cell_type": "code",
   "execution_count": 5,
   "metadata": {},
   "outputs": [
    {
     "name": "stdout",
     "output_type": "stream",
     "text": [
      "/run/media/dhruv/Gryffindor/Project/Cybergut/Implementation\n"
     ]
    }
   ],
   "source": [
    "cd .."
   ]
  },
  {
   "cell_type": "code",
   "execution_count": 7,
   "metadata": {},
   "outputs": [],
   "source": [
    "from utils import dataset"
   ]
  },
  {
   "cell_type": "code",
   "execution_count": 8,
   "metadata": {},
   "outputs": [],
   "source": [
    "ds = dataset.RuntimeDatasetv2([root])"
   ]
  },
  {
   "cell_type": "code",
   "execution_count": 19,
   "metadata": {},
   "outputs": [],
   "source": [
    "brightfields, dapis = ds.all_files"
   ]
  },
  {
   "cell_type": "code",
   "execution_count": 31,
   "metadata": {},
   "outputs": [
    {
     "name": "stderr",
     "output_type": "stream",
     "text": [
      "/home/dhruv/.local/lib/python3.7/site-packages/skimage/io/_io.py:140: UserWarning: /home/dhruv/Cybergut/Data/9Sep16_Data/processed/nofors/A - 5(fld 5 wv UV - DAPI).png is a low contrast image\n",
      "  warn('%s is a low contrast image' % fname)\n",
      "/home/dhruv/.local/lib/python3.7/site-packages/skimage/io/_io.py:140: UserWarning: /home/dhruv/Cybergut/Data/9Sep16_Data/processed/nofors/B - 1(fld 6 wv UV - DAPI).png is a low contrast image\n",
      "  warn('%s is a low contrast image' % fname)\n"
     ]
    }
   ],
   "source": [
    "for b, d in zip(brightfield, dapis):\n",
    "    bi = io.imread(b)\n",
    "    di = io.imread(d)\n",
    "    b = os.path.basename(b)[:-4]\n",
    "    d = os.path.basename(d)[:-4]\n",
    "    bi = cv2.resize(bi, (512, 512), None, interpolation=cv2.INTER_AREA)\n",
    "    di = cv2.resize(di, (512, 512), None, interpolation=cv2.INTER_AREA)\n",
    "    bi = exposure.rescale_intensity(bi)\n",
    "    di = exposure.rescale_intensity(di)\n",
    "    io.imsave(f'/home/dhruv/Cybergut/Data/9Sep16_Data/processed/nofors/{b}.png', bi)\n",
    "    io.imsave(f'/home/dhruv/Cybergut/Data/9Sep16_Data/processed/nofors/{d}.png', di)"
   ]
  }
 ],
 "metadata": {
  "kernelspec": {
   "display_name": "Python 3",
   "language": "python",
   "name": "python3"
  },
  "language_info": {
   "codemirror_mode": {
    "name": "ipython",
    "version": 3
   },
   "file_extension": ".py",
   "mimetype": "text/x-python",
   "name": "python",
   "nbconvert_exporter": "python",
   "pygments_lexer": "ipython3",
   "version": "3.7.1"
  }
 },
 "nbformat": 4,
 "nbformat_minor": 2
}
