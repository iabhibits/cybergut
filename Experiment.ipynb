{
 "cells": [
  {
   "cell_type": "code",
   "execution_count": null,
   "metadata": {},
   "outputs": [],
   "source": [
    "%load_ext autoreload \n",
    "%autoreload 2"
   ]
  },
  {
   "cell_type": "code",
   "execution_count": null,
   "metadata": {},
   "outputs": [],
   "source": [
    "import torch\n",
    "from torch.utils.data import DataLoader\n",
    "\n",
    "from torchvision.transforms import Compose"
   ]
  },
  {
   "cell_type": "code",
   "execution_count": null,
   "metadata": {},
   "outputs": [],
   "source": [
    "import torchvision"
   ]
  },
  {
   "cell_type": "code",
   "execution_count": null,
   "metadata": {},
   "outputs": [],
   "source": [
    "from PIL import Image"
   ]
  },
  {
   "cell_type": "code",
   "execution_count": null,
   "metadata": {},
   "outputs": [],
   "source": [
    "import numpy as np\n",
    "\n",
    "import matplotlib.pyplot as plt"
   ]
  },
  {
   "cell_type": "code",
   "execution_count": null,
   "metadata": {},
   "outputs": [],
   "source": [
    "import unet\n",
    "from utils import roi\n",
    "from utils import transforms as my_transforms"
   ]
  },
  {
   "cell_type": "code",
   "execution_count": null,
   "metadata": {},
   "outputs": [],
   "source": [
    "from utils import dataset"
   ]
  },
  {
   "cell_type": "code",
   "execution_count": null,
   "metadata": {},
   "outputs": [],
   "source": [
    "tsfms = Compose([\n",
    "    my_transforms.Convert('I'),\n",
    "    my_transforms.Resize(256, Image.BOX),\n",
    "    my_transforms.DrawGrid(16),\n",
    "    my_transforms.RandomHorizontalFlip(.5),\n",
    "    my_transforms.RandomVerticalFlip(.5),\n",
    "    my_transforms.ToTensor()\n",
    "])"
   ]
  },
  {
   "cell_type": "code",
   "execution_count": null,
   "metadata": {},
   "outputs": [],
   "source": [
    "ds = dataset.AnnotatedImages('/home/dhruv/Projects/cybergut/Data/', tsfms)"
   ]
  },
  {
   "cell_type": "code",
   "execution_count": null,
   "metadata": {},
   "outputs": [],
   "source": [
    "dl = DataLoader(ds, 1, True, num_workers=2)"
   ]
  },
  {
   "cell_type": "code",
   "execution_count": null,
   "metadata": {},
   "outputs": [],
   "source": [
    "try:\n",
    "    next(iter(dl))\n",
    "except FileNotFoundError:\n",
    "    print(\"Not found\")"
   ]
  },
  {
   "cell_type": "code",
   "execution_count": null,
   "metadata": {},
   "outputs": [],
   "source": [
    "x, y = ds[1]"
   ]
  },
  {
   "cell_type": "code",
   "execution_count": null,
   "metadata": {},
   "outputs": [],
   "source": [
    "x = x[None, :]\n",
    "y = y[None, :]"
   ]
  },
  {
   "cell_type": "code",
   "execution_count": null,
   "metadata": {},
   "outputs": [],
   "source": [
    "import utils"
   ]
  },
  {
   "cell_type": "code",
   "execution_count": null,
   "metadata": {},
   "outputs": [],
   "source": [
    "utils.IoU(y, y)"
   ]
  },
  {
   "cell_type": "code",
   "execution_count": null,
   "metadata": {},
   "outputs": [],
   "source": [
    "utils.IoU(y,y)"
   ]
  },
  {
   "cell_type": "code",
   "execution_count": null,
   "metadata": {},
   "outputs": [],
   "source": [
    "from torch import nn"
   ]
  },
  {
   "cell_type": "code",
   "execution_count": null,
   "metadata": {},
   "outputs": [],
   "source": [
    "l = nn.CrossEntropyLoss()"
   ]
  },
  {
   "cell_type": "code",
   "execution_count": null,
   "metadata": {},
   "outputs": [],
   "source": [
    "y "
   ]
  },
  {
   "cell_type": "code",
   "execution_count": null,
   "metadata": {},
   "outputs": [],
   "source": [
    "from torch.optim.lr_scheduler import CosineAnnealingLR"
   ]
  },
  {
   "cell_type": "code",
   "execution_count": null,
   "metadata": {},
   "outputs": [],
   "source": [
    "ds = torchvision.datasets.MNIST('/tmp', download=True, transform=torchvision.transforms.ToTensor())"
   ]
  },
  {
   "cell_type": "code",
   "execution_count": null,
   "metadata": {},
   "outputs": [],
   "source": [
    "dl = DataLoader(ds, batch_size=128, shuffle=True)"
   ]
  },
  {
   "cell_type": "code",
   "execution_count": null,
   "metadata": {},
   "outputs": [],
   "source": [
    "net = torch.nn.Sequential(\n",
    "    torch.nn.Linear(28*28, 100),\n",
    "    torch.nn.ReLU(),\n",
    "    torch.nn.Linear(100, 10),\n",
    ")"
   ]
  },
  {
   "cell_type": "code",
   "execution_count": null,
   "metadata": {},
   "outputs": [],
   "source": [
    "test_ds = torchvision.datasets.MNIST('/tmp', train=False, transform=torchvision.transforms.ToTensor())\n",
    "test_dl = DataLoader(test_ds, batch_size=128)"
   ]
  },
  {
   "cell_type": "code",
   "execution_count": null,
   "metadata": {},
   "outputs": [],
   "source": [
    "optim = torch.optim.Adam(net.parameters(), lr=0.001)"
   ]
  },
  {
   "cell_type": "code",
   "execution_count": null,
   "metadata": {},
   "outputs": [],
   "source": [
    "def train(net, optim):\n",
    "    loss_fn = torch.nn.CrossEntropyLoss()\n",
    "    for i, (x, y) in enumerate(dl):\n",
    "        optim.zero_grad()\n",
    "        x = x.view(-1, 28*28)\n",
    "        yp = net(x)\n",
    "        loss = loss_fn(yp, y)\n",
    "        loss.backward()\n",
    "        optim.step()\n",
    "        if (i % 99 == 0):\n",
    "            print(loss)\n",
    "            test_score()"
   ]
  },
  {
   "cell_type": "code",
   "execution_count": null,
   "metadata": {},
   "outputs": [],
   "source": [
    "def train_for_cycle(net, optim, cycle_no, loss_fn):\n",
    "    sched = CosineAnnealingLR(optim, 2**cycle_no*len(dl))\n",
    "    history = []\n",
    "    for i in range(2**cycle_no):\n",
    "        for j, (x, y) in enumerate(dl):\n",
    "            x = x.view(-1, 28*28)\n",
    "            history.append(sched.get_lr())\n",
    "            optim.zero_grad()\n",
    "            yp = net(x)\n",
    "            loss = loss_fn(yp, y)\n",
    "            loss.backward()\n",
    "            optim.step()\n",
    "            sched.step()\n",
    "            if j%100 == 99:\n",
    "                print(loss)\n",
    "    return history"
   ]
  },
  {
   "cell_type": "code",
   "execution_count": null,
   "metadata": {},
   "outputs": [],
   "source": [
    "loss_fn = torch.nn.CrossEntropyLoss()"
   ]
  },
  {
   "cell_type": "code",
   "execution_count": null,
   "metadata": {},
   "outputs": [],
   "source": [
    "hist2 = train_for_cycle(net, optim, 2, loss_fn)"
   ]
  },
  {
   "cell_type": "code",
   "execution_count": null,
   "metadata": {},
   "outputs": [],
   "source": [
    "hist.extend(hist2)"
   ]
  },
  {
   "cell_type": "code",
   "execution_count": null,
   "metadata": {},
   "outputs": [],
   "source": [
    "plt.plot(list(range(len(hist))), hist)"
   ]
  },
  {
   "cell_type": "markdown",
   "metadata": {},
   "source": [
    "## Distance Map experiment"
   ]
  },
  {
   "cell_type": "code",
   "execution_count": 1,
   "metadata": {},
   "outputs": [],
   "source": [
    "from utils import roi\n",
    "import numpy as np\n",
    "from skimage import draw, transform, io\n",
    "import matplotlib.pyplot as plt\n",
    "import cv2"
   ]
  },
  {
   "cell_type": "code",
   "execution_count": 2,
   "metadata": {},
   "outputs": [],
   "source": [
    "polies = roi.get_polygons('../Data/Images/ROI/C - 1(fld 013 wv TL-Brightfield - dsRed).zip')\n",
    "\n",
    "dists = []\n",
    "oimg= np.zeros((2048, 2048), dtype=np.uint8)\n",
    "for poly in polies:\n",
    "    img = np.zeros((2048, 2048), dtype=np.uint8)\n",
    "    xy = np.array(poly).T\n",
    "    cv2.fillPoly(oimg, [xy], 255)\n",
    "    xy = xy.reshape(-1, 1, 2)\n",
    "    img = cv2.polylines(img, xy, True, 255, 3)\n",
    "    img = cv2.resize(img, (512, 512), interpolation=cv2.INTER_AREA)\n",
    "    img  = cv2.morphologyEx(img, cv2.MORPH_CLOSE, np.ones((3,3), np.uint8))\n",
    "    img[img > 127] = 255\n",
    "    img[img < 127] = 0\n",
    "    img = 255 - img\n",
    "    dst = cv2.distanceTransform(img, cv2.DIST_L2, 3)\n",
    "    dists.append(dst)"
   ]
  },
  {
   "cell_type": "code",
   "execution_count": 3,
   "metadata": {},
   "outputs": [],
   "source": [
    "oimg = cv2.resize(oimg, (512, 512), interpolation=cv2.INTER_AREA)\n",
    "oimg[oimg < 127] = 0\n",
    "oimg[oimg > 127] = 1\n",
    "s = oimg.sum()\n",
    "w0 = s/(2048*2048)\n",
    "w1 = 1 - w0\n",
    "wmapt = oimg*w1\n",
    "wmapt[oimg == 0] = w0"
   ]
  },
  {
   "cell_type": "code",
   "execution_count": 4,
   "metadata": {},
   "outputs": [
    {
     "data": {
      "image/png": "[encoded data removed]",
      "text/plain": [
       "<Figure size 432x288 with 1 Axes>"
      ]
     },
     "metadata": {},
     "output_type": "display_data"
    }
   ],
   "source": [
    "plt.imshow(wmapt, cmap='binary')\n",
    "plt.show()"
   ]
  },
  {
   "cell_type": "code",
   "execution_count": 5,
   "metadata": {},
   "outputs": [],
   "source": [
    "stk = np.stack(dists, -1)\n",
    "stk.partition(1)\n",
    "ws = stk[:, :, [0, 1]]\n",
    "wmap = ws.sum(-1)\n",
    "wmap = np.square(wmap, out=wmap)\n",
    "wmap /= 50\n",
    "wmap *= -1\n",
    "wmap = 10*np.exp(wmap)\n",
    "wmap += wmapt"
   ]
  },
  {
   "cell_type": "code",
   "execution_count": 6,
   "metadata": {},
   "outputs": [],
   "source": [
    "fig, ax = plt.subplots(1, 1)\n",
    "tmp = ax.imshow(wmap, cmap='jet')\n",
    "fig.colorbar(tmp)\n",
    "fig.savefig('/tmp/out.eps', format='eps', dpi=500)"
   ]
  },
  {
   "cell_type": "code",
   "execution_count": null,
   "metadata": {},
   "outputs": [],
   "source": []
  }
 ],
 "metadata": {
  "kernelspec": {
   "display_name": "Python 3",
   "language": "python",
   "name": "python3"
  },
  "language_info": {
   "codemirror_mode": {
    "name": "ipython",
    "version": 3
   },
   "file_extension": ".py",
   "mimetype": "text/x-python",
   "name": "python",
   "nbconvert_exporter": "python",
   "pygments_lexer": "ipython3",
   "version": "3.6.6"
  }
 },
 "nbformat": 4,
 "nbformat_minor": 2
}
