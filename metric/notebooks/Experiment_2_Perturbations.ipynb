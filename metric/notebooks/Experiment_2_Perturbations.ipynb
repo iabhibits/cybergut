{
 "cells": [
  {
   "cell_type": "code",
   "execution_count": 1,
   "metadata": {},
   "outputs": [
    {
     "name": "stdout",
     "output_type": "stream",
     "text": [
      "Using matplotlib backend: Qt5Agg\n",
      "Populating the interactive namespace from numpy and matplotlib\n"
     ]
    }
   ],
   "source": [
    "%pylab\n",
    "%load_ext autoreload\n",
    "%autoreload 2"
   ]
  },
  {
   "cell_type": "code",
   "execution_count": 2,
   "metadata": {},
   "outputs": [],
   "source": [
    "from metric import tests\n",
    "import cv2\n",
    "from utils import wand_transforms\n",
    "import wand\n",
    "from wand.image import Image\n",
    "from metric.separate_iou import siou\n",
    "from sklearn.metrics import adjusted_rand_score"
   ]
  },
  {
   "cell_type": "code",
   "execution_count": 3,
   "metadata": {},
   "outputs": [],
   "source": [
    "#generate random images 100\n",
    "!mkdir expr2_data"
   ]
  },
  {
   "cell_type": "code",
   "execution_count": 3,
   "metadata": {},
   "outputs": [],
   "source": [
    "for i in range(100):\n",
    "    N = randint(19, 23, dtype=int)\n",
    "    circs = tests.uniform_random_circles(25, 55, 450, 10, 50, 5)\n",
    "    slices = np.zeros((N, 512, 512), np.uint8)\n",
    "    image = np.zeros((512, 512), np.uint8)\n",
    "    for j, (c, r) in enumerate(circs):\n",
    "        if j < N:\n",
    "            slices[j] = cv2.circle(slices[j], c, r, 1, -1)\n",
    "        image = cv2.circle(image, c, r, 255, -1)\n",
    "    cv2.imwrite(f'./expr2_data/image_{i}.png', image)\n",
    "    np.save(f'./expr2_data/slices_{i}.npy', slices)"
   ]
  },
  {
   "cell_type": "markdown",
   "metadata": {},
   "source": [
    "## Sanity check"
   ]
  },
  {
   "cell_type": "code",
   "execution_count": 3,
   "metadata": {},
   "outputs": [
    {
     "name": "stdout",
     "output_type": "stream",
     "text": [
      "1.0 0.0\n",
      "0.8779530104190476 0.056906166620670384\n",
      "0.907890210984392 0.04428963385345463\n",
      "1.0 0.0\n",
      "0.9139304696526054 0.07485331624956607\n"
     ]
    }
   ],
   "source": [
    "ious = []\n",
    "nious = []\n",
    "aris = []\n",
    "fg_aris = []\n",
    "fgfg_aris = []\n",
    "for i in range(100):\n",
    "    slc = np.load(f'./expr2_data/slices_{i}.npy')\n",
    "    img = cv2.imread(f'./expr2_data/image_{i}.png', cv2.IMREAD_ANYDEPTH)\n",
    "    img = (img > 127).astype(uint8)\n",
    "    ious.append(siou(slc, img))\n",
    "    \n",
    "    orig = slc.sum(0).astype(uint8)\n",
    "#     tocompare = np.ones((512, 1026), uint8)\n",
    "#     tocompare[:, :512] = orig\n",
    "#     tocompare[:, 514:] = img\n",
    "#     cv2.imwrite(f'./expr2_data/compare/{i}.png', tocompare*255)\n",
    "    \n",
    "    _, x = cv2.connectedComponents(orig, connectivity=8)\n",
    "    _, y = cv2.connectedComponents(img, connectivity=8)\n",
    "    aris.append(adjusted_rand_score(x.reshape(-1), y.reshape(-1)))\n",
    "    \n",
    "    idx = (orig != 0)\n",
    "    fg_aris.append(adjusted_rand_score(x[idx].reshape(-1), y[idx].reshape(-1)))\n",
    "    \n",
    "    idx = (orig != 0) | (y != 0)\n",
    "    fgfg_aris.append(adjusted_rand_score(x[idx].reshape(-1), y[idx].reshape(-1)))\n",
    "    \n",
    "    orig = orig.astype(bool)\n",
    "    img = img.astype(bool)\n",
    "    nious.append((orig&img).sum()/(orig|img).sum())\n",
    "ious = array(ious)\n",
    "nious = array(nious)\n",
    "aris = array(aris)\n",
    "fg_aris = array(fg_aris)\n",
    "fgfg_aris = array(fgfg_aris)\n",
    "print(ious.mean(), ious.std())\n",
    "print(nious.mean(), nious.std())\n",
    "print(aris.mean(), aris.std())\n",
    "print(fg_aris.mean(), fg_aris.std())\n",
    "print(fgfg_aris.mean(), fgfg_aris.std())"
   ]
  },
  {
   "cell_type": "markdown",
   "metadata": {},
   "source": [
    "## Perturbed versions"
   ]
  },
  {
   "cell_type": "code",
   "execution_count": 4,
   "metadata": {},
   "outputs": [
    {
     "name": "stdout",
     "output_type": "stream",
     "text": [
      "0.9429138711279608 0.0350454031615335\n",
      "0.7367413917992632 0.05357384485790448\n",
      "0.787102979315215 0.04460379534960318\n",
      "0.8697330039263061 0.03542776413437103\n",
      "0.6385445882830613 0.08608864159362875\n"
     ]
    }
   ],
   "source": [
    "tsfm = wand_transforms.Distort(4, 512, 10)\n",
    "sious = []\n",
    "nious = []\n",
    "aris = []\n",
    "fg_aris = []\n",
    "fgfg_aris = []\n",
    "\n",
    "for i in range(100):\n",
    "    img = Image(filename=f'./expr2_data/image_{i}.png')\n",
    "    slc = np.load(f'./expr2_data/slices_{i}.npy')\n",
    "    img, *_ = tsfm([img])\n",
    "    img = np.frombuffer(img.make_blob('gray'), uint8).reshape(512,512)\n",
    "    img = (img > 127).astype(uint8)\n",
    "    sious.append(siou(slc, img))\n",
    "    \n",
    "    orig = slc.sum(0).astype(uint8)\n",
    "    _, x = cv2.connectedComponents(orig, connectivity=8)\n",
    "    _, y = cv2.connectedComponents(img, connectivity=8)\n",
    "    aris.append(adjusted_rand_score(x.reshape(-1), y.reshape(-1)))\n",
    "\n",
    "    idx = (orig != 0)\n",
    "    fg_aris.append(adjusted_rand_score(x[idx].reshape(-1), y[idx].reshape(-1)))\n",
    "    \n",
    "    idx = (orig != 0) | (y != 0)\n",
    "    fgfg_aris.append(adjusted_rand_score(x[idx].reshape(-1), y[idx].reshape(-1)))\n",
    "\n",
    "    orig = orig.astype(bool)\n",
    "    img = img.astype(bool)\n",
    "    nious.append((orig&img).sum()/(orig|img).sum())\n",
    "sious = array(sious)\n",
    "nious = array(nious)\n",
    "aris = array(aris)\n",
    "fg_aris = array(fg_aris)\n",
    "fgfg_aris = array(fgfg_aris)\n",
    "print(sious.mean(), sious.std())\n",
    "print(nious.mean(), nious.std())\n",
    "print(aris.mean(), aris.std())\n",
    "print(fg_aris.mean(), fg_aris.std())\n",
    "print(fgfg_aris.mean(), fgfg_aris.std())"
   ]
  },
  {
   "cell_type": "code",
   "execution_count": null,
   "metadata": {},
   "outputs": [],
   "source": []
  }
 ],
 "metadata": {
  "kernelspec": {
   "display_name": "Python 3",
   "language": "python",
   "name": "python3"
  },
  "language_info": {
   "codemirror_mode": {
    "name": "ipython",
    "version": 3
   },
   "file_extension": ".py",
   "mimetype": "text/x-python",
   "name": "python",
   "nbconvert_exporter": "python",
   "pygments_lexer": "ipython3",
   "version": "3.7.2"
  }
 },
 "nbformat": 4,
 "nbformat_minor": 2
}
