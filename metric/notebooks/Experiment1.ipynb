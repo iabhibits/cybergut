{
 "cells": [
  {
   "cell_type": "code",
   "execution_count": 1,
   "metadata": {},
   "outputs": [
    {
     "name": "stdout",
     "output_type": "stream",
     "text": [
      "Using matplotlib backend: Qt5Agg\n",
      "Populating the interactive namespace from numpy and matplotlib\n"
     ]
    }
   ],
   "source": [
    "%pylab\n",
    "%load_ext autoreload\n",
    "%autoreload 2"
   ]
  },
  {
   "cell_type": "code",
   "execution_count": 2,
   "metadata": {},
   "outputs": [],
   "source": [
    "from metric import tests\n",
    "import cv2\n",
    "from utils import wand_transforms\n",
    "import wand\n",
    "from wand.image import Image\n",
    "from metric.separate_iou import siou\n",
    "from sklearn.metrics import adjusted_rand_score\n",
    "import tqdm"
   ]
  },
  {
   "cell_type": "code",
   "execution_count": 3,
   "metadata": {},
   "outputs": [],
   "source": [
    "# generate random images 100\n",
    "!mkdir -p expr1_data/compare"
   ]
  },
  {
   "cell_type": "code",
   "execution_count": 4,
   "metadata": {},
   "outputs": [],
   "source": [
    "for i in range(100):\n",
    "    n_cells = np.random.randint(25, 40)\n",
    "    circs = tests.uniform_random_circles(n_cells, 55, 450, 10, 50, 5)\n",
    "    slices = np.zeros((n_cells, 512, 512), np.uint8)\n",
    "    image = np.zeros((512, 512), np.uint8)\n",
    "    for j, (c, r) in enumerate(circs):\n",
    "        slices[j] = cv2.circle(slices[j], c, r, 1, -1)\n",
    "        image = cv2.circle(image, c, r, 255, -1)\n",
    "    cv2.imwrite(f'./expr1_data/image_{i}.png', image)\n",
    "    np.save(f'./expr1_data/slices_{i}.npy', slices)"
   ]
  },
  {
   "cell_type": "markdown",
   "metadata": {},
   "source": [
    "## Sanity check"
   ]
  },
  {
   "cell_type": "code",
   "execution_count": 5,
   "metadata": {},
   "outputs": [
    {
     "name": "stdout",
     "output_type": "stream",
     "text": [
      "niou            1.00 0.00\n",
      "ari             1.00 0.00\n",
      "f0_ari          1.00 0.00\n",
      "f1_ari          1.00 0.00\n",
      "ff_ari          1.00 0.00\n",
      "siou_normal     1.00 0.00\n",
      "siou_prop       1.00 0.00\n",
      "siou_inv        1.00 0.00\n",
      "1.00 $\\pm$ 0.00 & 1.00 $\\pm$ 0.00 & 1.00 $\\pm$ 0.00 & 1.00 $\\pm$ 0.00 & 1.00 $\\pm$ 0.00 & 1.00 $\\pm$ 0.00 & 1.00 $\\pm$ 0.00 & 1.00 $\\pm$ 0.00 & "
     ]
    }
   ],
   "source": [
    "lst = ['niou', 'ari', 'f0_ari', 'f1_ari', 'ff_ari', 'siou_normal', 'siou_prop', 'siou_inv']\n",
    "results = {k:[] for k in lst}\n",
    "for i in range(10):\n",
    "    slc = np.load(f'./expr1_data/slices_{i}.npy')\n",
    "    img = cv2.imread(f'./expr1_data/image_{i}.png', cv2.IMREAD_ANYDEPTH)\n",
    "    img = (img > 127).astype(uint8)\n",
    "    for normalize in ['normal', 'prop', 'inv']:\n",
    "        results['siou_'+normalize].append(siou(img, slc, normalize=normalize))\n",
    "    \n",
    "    orig = slc.sum(0).astype(uint8)\n",
    "    _, x = cv2.connectedComponents(orig, connectivity=8)\n",
    "    _, y = cv2.connectedComponents(img, connectivity=8)\n",
    "    results['ari'].append(adjusted_rand_score(x.reshape(-1), y.reshape(-1)))\n",
    "    \n",
    "    idx = orig != 0\n",
    "    results['f0_ari'].append(adjusted_rand_score(x[idx], y[idx]))\n",
    "    \n",
    "    idx = img != 0\n",
    "    results['f1_ari'].append(adjusted_rand_score(x[idx], y[idx]))\n",
    "    \n",
    "    idx = (orig != 0) | (y != 0)\n",
    "    results['ff_ari'].append(adjusted_rand_score(x[idx], y[idx]))\n",
    "    \n",
    "    orig = orig.astype(bool)\n",
    "    img = img.astype(bool)\n",
    "    results['niou'].append((orig&img).sum()/(orig|img).sum())\n",
    "    \n",
    "for k in lst:\n",
    "    ar = np.array(results[k])\n",
    "    mean, std = ar.mean(), ar.std()\n",
    "    print(f'{k:15s} {mean:.2f} {std:.2f}')\n",
    "    \n",
    "for k in lst:\n",
    "    ar = np.array(results[k])\n",
    "    mean, std = ar.mean(), ar.std()\n",
    "    print(f'{mean:.2f} $\\pm$ {std:.2f}', end=' & ')"
   ]
  },
  {
   "cell_type": "markdown",
   "metadata": {},
   "source": [
    "## Perturbed versions"
   ]
  },
  {
   "cell_type": "code",
   "execution_count": 6,
   "metadata": {},
   "outputs": [
    {
     "name": "stderr",
     "output_type": "stream",
     "text": [
      "100%|██████████| 100/100 [00:47<00:00,  2.08it/s]"
     ]
    },
    {
     "name": "stdout",
     "output_type": "stream",
     "text": [
      "niou            0.79 0.03\n",
      "ari             0.82 0.03\n",
      "f0_ari          0.80 0.05\n",
      "f1_ari          0.79 0.05\n",
      "ff_ari          0.66 0.07\n",
      "siou_normal     0.90 0.04\n",
      "siou_prop       0.96 0.02\n",
      "siou_inv        0.81 0.06\n",
      "0.79 $\\pm$ 0.03 & 0.82 $\\pm$ 0.03 & 0.80 $\\pm$ 0.05 & 0.79 $\\pm$ 0.05 & 0.66 $\\pm$ 0.07 & 0.90 $\\pm$ 0.04 & 0.96 $\\pm$ 0.02 & 0.81 $\\pm$ 0.06 & "
     ]
    },
    {
     "name": "stderr",
     "output_type": "stream",
     "text": [
      "\n"
     ]
    }
   ],
   "source": [
    "tsfm = wand_transforms.Distort(4, 512, 12)\n",
    "lst = ['niou', 'ari', 'f0_ari', 'f1_ari', 'ff_ari', 'siou_normal', 'siou_prop', 'siou_inv']\n",
    "results = {k:[] for k in lst}\n",
    "for i in tqdm.trange(100):\n",
    "    img = Image(filename=f'./expr1_data/image_{i}.png')\n",
    "    slc = np.load(f'./expr1_data/slices_{i}.npy')\n",
    "    img, *_ = tsfm([img])\n",
    "    img = np.frombuffer(img.make_blob('gray'), uint8).reshape(512,512)\n",
    "    img = (img > 127).astype(uint8)\n",
    "    for normalize in ['normal', 'prop', 'inv']:\n",
    "        results['siou_'+normalize].append(siou(img, slc, normalize=normalize))\n",
    "    \n",
    "    tocompare = np.ones((512, 1026), uint8)\n",
    "    \n",
    "    orig = slc.sum(0).astype(uint8)\n",
    "    tocompare[:, :512] = orig\n",
    "    tocompare[:, 514:] = img\n",
    "    \n",
    "    _, x = cv2.connectedComponents(orig, connectivity=8)\n",
    "    _, y = cv2.connectedComponents(img, connectivity=8)\n",
    "    results['ari'].append(adjusted_rand_score(x.reshape(-1), y.reshape(-1)))\n",
    "    \n",
    "    idx = orig != 0\n",
    "    results['f0_ari'].append(adjusted_rand_score(x[idx], y[idx]))\n",
    "    \n",
    "    idx = img != 0\n",
    "    results['f1_ari'].append(adjusted_rand_score(x[idx], y[idx]))\n",
    "    \n",
    "    idx = (orig != 0) | (y != 0)\n",
    "    results['ff_ari'].append(adjusted_rand_score(x[idx], y[idx]))\n",
    "    \n",
    "    orig = orig.astype(bool)\n",
    "    img = img.astype(bool)\n",
    "    results['niou'].append((orig&img).sum()/(orig|img).sum())\n",
    "    cv2.imwrite(f'./expr1_data/compare/{i}.png', tocompare*255)\n",
    "\n",
    "for k in lst:\n",
    "    ar = np.array(results[k])\n",
    "    mean, std = ar.mean(), ar.std()\n",
    "    print(f'{k:15s} {mean:.2f} {std:.2f}')\n",
    "    \n",
    "for k in lst:\n",
    "    ar = np.array(results[k])\n",
    "    mean, std = ar.mean(), ar.std()\n",
    "    print(f'{mean:.2f} $\\pm$ {std:.2f}', end=' & ')"
   ]
  },
  {
   "cell_type": "code",
   "execution_count": null,
   "metadata": {},
   "outputs": [],
   "source": []
  }
 ],
 "metadata": {
  "kernelspec": {
   "display_name": "Python 3",
   "language": "python",
   "name": "python3"
  },
  "language_info": {
   "codemirror_mode": {
    "name": "ipython",
    "version": 3
   },
   "file_extension": ".py",
   "mimetype": "text/x-python",
   "name": "python",
   "nbconvert_exporter": "python",
   "pygments_lexer": "ipython3",
   "version": "3.7.3"
  }
 },
 "nbformat": 4,
 "nbformat_minor": 2
}
