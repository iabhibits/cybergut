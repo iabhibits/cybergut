{
 "cells": [
  {
   "cell_type": "markdown",
   "metadata": {},
   "source": [
    "# Experiment5\n",
    "This experiment is similar to experiment4, except now N pairs of closest cells are merged. Where N is chosen randomly."
   ]
  },
  {
   "cell_type": "code",
   "execution_count": 1,
   "metadata": {},
   "outputs": [
    {
     "name": "stdout",
     "output_type": "stream",
     "text": [
      "Using matplotlib backend: Qt5Agg\n",
      "Populating the interactive namespace from numpy and matplotlib\n"
     ]
    }
   ],
   "source": [
    "%pylab\n",
    "%load_ext autoreload\n",
    "%autoreload 2"
   ]
  },
  {
   "cell_type": "code",
   "execution_count": 2,
   "metadata": {},
   "outputs": [],
   "source": [
    "from metric import tests\n",
    "import cv2, tqdm\n",
    "from utils import wand_transforms\n",
    "import wand\n",
    "from wand.image import Image\n",
    "from metric.separate_iou import siou\n",
    "from sklearn.metrics import pairwise_distances, adjusted_rand_score"
   ]
  },
  {
   "cell_type": "code",
   "execution_count": 3,
   "metadata": {},
   "outputs": [],
   "source": [
    "#generate random images 100\n",
    "!mkdir -p expr5_data/compare"
   ]
  },
  {
   "cell_type": "markdown",
   "metadata": {},
   "source": [
    "## Data Generation"
   ]
  },
  {
   "cell_type": "code",
   "execution_count": 8,
   "metadata": {},
   "outputs": [],
   "source": [
    "for i in range(100):\n",
    "    M = np.random.randint(25, 40)\n",
    "    circs = tests.uniform_random_circles(M, 55, 450, 10, 50, 5)\n",
    "    XY = np.array([c for c, r in circs])\n",
    "    rs = np.array([r for c, r in circs])\n",
    "    dist = pairwise_distances(XY)\n",
    "    dist -= rs[None, :]\n",
    "    dist -= rs[:, None]\n",
    "    np.fill_diagonal(dist, 'inf')\n",
    "    \n",
    "    N = np.random.randint(1, 10)# dtype=int)\n",
    "    nrs = rs.copy()\n",
    "    for j in range(N):\n",
    "        c1, c2 = np.unravel_index(dist.argmin(), dist.shape)\n",
    "        pad = int((dist[c1, c2]/2))+1\n",
    "        dist[c1, c2] = float('inf')\n",
    "        dist[c2, c1] = float('inf')\n",
    "        nrs[c1] = max(nrs[c1], rs[c1]+pad)\n",
    "        nrs[c2] = max(nrs[c2], rs[c2]+pad)\n",
    "    \n",
    "    slices = np.zeros((M, 512, 512), np.uint8)\n",
    "    image = np.zeros((512, 512), np.uint8)\n",
    "    for j, (c, r) in enumerate(circs):\n",
    "        slices[j] = cv2.circle(slices[j], c, r, 1, -1)\n",
    "        image = cv2.circle(image, c, nrs[j], 255, -1)\n",
    "    cv2.imwrite(f'./expr5_data/image_{i}.png', image)\n",
    "    np.save(f'./expr5_data/slices_{i}.npy', slices)\n",
    "    \n",
    "    orig = slices.sum(0).astype(uint8)\n",
    "    tocompare = np.ones((512, 1026), uint8)*255\n",
    "    tocompare[:, :512] = orig*255\n",
    "    tocompare[:, 514:] = image\n",
    "    cv2.imwrite(f'./expr5_data/compare/{i}.png', tocompare)"
   ]
  },
  {
   "cell_type": "markdown",
   "metadata": {},
   "source": [
    "## Experiment"
   ]
  },
  {
   "cell_type": "code",
   "execution_count": 9,
   "metadata": {},
   "outputs": [
    {
     "name": "stderr",
     "output_type": "stream",
     "text": [
      "100%|██████████| 100/100 [00:28<00:00,  3.42it/s]"
     ]
    },
    {
     "name": "stdout",
     "output_type": "stream",
     "text": [
      "niou            0.91 0.05\n",
      "ari             0.93 0.04\n",
      "f0_ari          0.88 0.10\n",
      "f1_ari          0.75 0.16\n",
      "ff_ari          0.75 0.16\n",
      "siou_normal     0.80 0.11\n",
      "siou_prop       0.82 0.11\n",
      "siou_inv        0.78 0.14\n",
      "0.91 $\\pm$ 0.05 & 0.93 $\\pm$ 0.04 & 0.88 $\\pm$ 0.10 & 0.75 $\\pm$ 0.16 & 0.75 $\\pm$ 0.16 & 0.80 $\\pm$ 0.11 & 0.82 $\\pm$ 0.11 & 0.78 $\\pm$ 0.14 & "
     ]
    },
    {
     "name": "stderr",
     "output_type": "stream",
     "text": [
      "\n"
     ]
    }
   ],
   "source": [
    "lst = ['niou', 'ari', 'f0_ari', 'f1_ari', 'ff_ari', 'siou_normal', 'siou_prop', 'siou_inv']\n",
    "results = {k:[] for k in lst}\n",
    "\n",
    "for i in tqdm.trange(100):\n",
    "    img = cv2.imread(f'./expr5_data/image_{i}.png', cv2.IMREAD_ANYDEPTH)\n",
    "    img = (img > 127).astype(uint8)\n",
    "    slc = np.load(f'./expr5_data/slices_{i}.npy')\n",
    "    for normalize in ['normal', 'prop', 'inv']:\n",
    "        results['siou_'+normalize].append(siou(img, slc, normalize=normalize))\n",
    "\n",
    "    orig = slc.sum(0).astype(uint8)\n",
    "    _, x = cv2.connectedComponents(orig, connectivity=8)\n",
    "    _, y = cv2.connectedComponents(img, connectivity=8)\n",
    "    results['ari'].append(adjusted_rand_score(x.reshape(-1), y.reshape(-1)))\n",
    "\n",
    "    idx = orig != 0\n",
    "    results['f0_ari'].append(adjusted_rand_score(x[idx], y[idx]))\n",
    "\n",
    "    idx = img != 0\n",
    "    results['f1_ari'].append(adjusted_rand_score(x[idx], y[idx]))\n",
    "\n",
    "    idx = (orig != 0) | (img != 0)\n",
    "    results['ff_ari'].append(adjusted_rand_score(x[idx], y[idx]))\n",
    "\n",
    "    orig = orig.astype(bool)\n",
    "    img = img.astype(bool)\n",
    "    results['niou'].append((orig&img).sum()/(orig|img).sum())\n",
    "    \n",
    "for k in lst:\n",
    "    ar = np.array(results[k])\n",
    "    mean, std = ar.mean(), ar.std()\n",
    "    print(f'{k:15s} {mean:.2f} {std:.2f}')\n",
    "for k in lst:\n",
    "    ar = np.array(results[k])\n",
    "    mean, std = ar.mean(), ar.std()\n",
    "    print(f'{mean:.2f} $\\pm$ {std:.2f}', end=' & ')"
   ]
  },
  {
   "cell_type": "code",
   "execution_count": null,
   "metadata": {},
   "outputs": [],
   "source": []
  }
 ],
 "metadata": {
  "kernelspec": {
   "display_name": "Python 3",
   "language": "python",
   "name": "python3"
  },
  "language_info": {
   "codemirror_mode": {
    "name": "ipython",
    "version": 3
   },
   "file_extension": ".py",
   "mimetype": "text/x-python",
   "name": "python",
   "nbconvert_exporter": "python",
   "pygments_lexer": "ipython3",
   "version": "3.7.3"
  }
 },
 "nbformat": 4,
 "nbformat_minor": 2
}
