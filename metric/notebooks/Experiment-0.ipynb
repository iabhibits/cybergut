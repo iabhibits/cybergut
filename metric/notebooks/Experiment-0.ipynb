{
 "cells": [
  {
   "cell_type": "code",
   "execution_count": 1,
   "metadata": {},
   "outputs": [
    {
     "name": "stdout",
     "output_type": "stream",
     "text": [
      "Using matplotlib backend: Qt5Agg\n",
      "Populating the interactive namespace from numpy and matplotlib\n"
     ]
    }
   ],
   "source": [
    "%pylab\n",
    "%load_ext autoreload\n",
    "%autoreload 2"
   ]
  },
  {
   "cell_type": "code",
   "execution_count": 42,
   "metadata": {},
   "outputs": [],
   "source": [
    "from metric import tests\n",
    "import cv2, tqdm\n",
    "from utils import wand_transforms\n",
    "import wand\n",
    "from wand.image import Image\n",
    "from sklearn import cluster\n",
    "from metric.separate_iou import siou\n",
    "from sklearn.metrics import adjusted_rand_score, cluster\n",
    "import matplotlib.pyplot as plt\n",
    "import tqdm\n",
    "import numpy as np\n",
    "import seaborn as sns"
   ]
  },
  {
   "cell_type": "code",
   "execution_count": 3,
   "metadata": {},
   "outputs": [],
   "source": [
    "%matplotlib inline"
   ]
  },
  {
   "cell_type": "code",
   "execution_count": 5,
   "metadata": {},
   "outputs": [],
   "source": [
    "# generate random images 100\n",
    "!mkdir -p sparse0/compare"
   ]
  },
  {
   "cell_type": "markdown",
   "metadata": {},
   "source": [
    "## Totally random generated images"
   ]
  },
  {
   "cell_type": "code",
   "execution_count": 54,
   "metadata": {},
   "outputs": [
    {
     "name": "stderr",
     "output_type": "stream",
     "text": [
      "100%|██████████| 1/1 [00:01<00:00,  1.03s/it]"
     ]
    },
    {
     "name": "stdout",
     "output_type": "stream",
     "text": [
      "niou            nan nan\n",
      "ari             -0.00 0.00\n",
      "f0_ari          -0.00 0.00\n",
      "f1_ari          -0.01 0.00\n",
      "ff_ari          0.42 0.00\n",
      "siou_normal     0.00 0.00\n",
      "siou_prop       0.00 0.00\n",
      "siou_inv        0.00 0.00\n",
      "nan $\\pm$ nan & -0.00 $\\pm$ 0.00 & -0.00 $\\pm$ 0.00 & -0.01 $\\pm$ 0.00 & 0.42 $\\pm$ 0.00 & 0.00 $\\pm$ 0.00 & 0.00 $\\pm$ 0.00 & 0.00 $\\pm$ 0.00 & "
     ]
    },
    {
     "name": "stderr",
     "output_type": "stream",
     "text": [
      "\n",
      "/usr/lib/python3.7/site-packages/ipykernel_launcher.py:40: RuntimeWarning: Mean of empty slice.\n",
      "/usr/lib/python3.7/site-packages/numpy/core/_methods.py:85: RuntimeWarning: invalid value encountered in double_scalars\n",
      "  ret = ret.dtype.type(ret / rcount)\n",
      "/usr/lib/python3.7/site-packages/numpy/core/_methods.py:140: RuntimeWarning: Degrees of freedom <= 0 for slice\n",
      "  keepdims=keepdims)\n",
      "/usr/lib/python3.7/site-packages/numpy/core/_methods.py:110: RuntimeWarning: invalid value encountered in true_divide\n",
      "  arrmean, rcount, out=arrmean, casting='unsafe', subok=False)\n",
      "/usr/lib/python3.7/site-packages/numpy/core/_methods.py:132: RuntimeWarning: invalid value encountered in double_scalars\n",
      "  ret = ret.dtype.type(ret / rcount)\n",
      "/usr/lib/python3.7/site-packages/ipykernel_launcher.py:44: RuntimeWarning: Mean of empty slice.\n"
     ]
    }
   ],
   "source": [
    "lst = ['niou', 'ari', 'f0_ari', 'f1_ari', 'ff_ari', 'siou_normal', 'siou_prop', 'siou_inv']\n",
    "results = {k:[] for k in lst}\n",
    "\n",
    "\n",
    "for i in tqdm.trange(1):\n",
    "    N = np.random.randint(25, 40)\n",
    "    circs = tests.uniform_random_circles(N, 55, 450, 10, 50, 5)\n",
    "    slices = np.zeros((N, 512, 512), np.uint8)\n",
    "    image = np.zeros((512, 512), np.uint8)\n",
    "    for j, (c, r) in enumerate(circs):\n",
    "        slices[j] = cv2.circle(slices[j], c, r, 1, -1)\n",
    "        image = cv2.circle(image, c, r, 1, -1)\n",
    "    random_target = np.random.rand(*image.shape)\n",
    "    random_target = (random_target < .5).astype(np.uint8)\n",
    "    \n",
    "    for normalize in ['normal', 'prop', 'inv']:\n",
    "        results['siou_'+normalize].append(siou(random_target, slices, normalize=normalize))\n",
    "    \n",
    "    orig = image\n",
    "    img = random_target\n",
    "    _, x = cv2.connectedComponents(orig, connectivity=8)\n",
    "    _, y = cv2.connectedComponents(img, connectivity=8)\n",
    "    results['ari'].append(adjusted_rand_score(x.reshape(-1), y.reshape(-1)))\n",
    "    \n",
    "    idx = orig != 0\n",
    "    results['f0_ari'].append(adjusted_rand_score(x[idx], y[idx]))\n",
    "    \n",
    "    idx = img != 0\n",
    "    results['f1_ari'].append(adjusted_rand_score(x[idx], y[idx]))\n",
    "    \n",
    "    idx = (orig != 0) | (img != 0)\n",
    "    results['ff_ari'].append(adjusted_rand_score(x[idx], y[idx]))\n",
    "    \n",
    "#     orig = orig.astype(bool)\n",
    "#     img = img.astype(bool)\n",
    "#     results['niou'].append((orig&img).sum()/(orig|img).sum())\n",
    "    \n",
    "for k in lst:\n",
    "    ar = np.array(results[k])\n",
    "    mean, std = ar.mean(), ar.std()\n",
    "    print(f'{k:15s} {mean:.2f} {std:.2f}')\n",
    "for k in lst:\n",
    "    ar = np.array(results[k])\n",
    "    mean, std = ar.mean(), ar.std()\n",
    "    print(f'{mean:.2f} $\\pm$ {std:.2f}', end=' & ')"
   ]
  },
  {
   "cell_type": "code",
   "execution_count": 72,
   "metadata": {},
   "outputs": [],
   "source": [
    "x = np.random.randint(0, 30, 1000)\n",
    "y = np.random.randint(0, 1000, 1000)\n",
    "y[y < 500] = 0\n",
    "y[y > 500] = 1"
   ]
  },
  {
   "cell_type": "code",
   "execution_count": 73,
   "metadata": {},
   "outputs": [
    {
     "data": {
      "text/plain": [
       "-0.0003816590206668117"
      ]
     },
     "execution_count": 73,
     "metadata": {},
     "output_type": "execute_result"
    }
   ],
   "source": [
    "adjusted_rand_score(x, y)"
   ]
  },
  {
   "cell_type": "code",
   "execution_count": 52,
   "metadata": {},
   "outputs": [
    {
     "name": "stderr",
     "output_type": "stream",
     "text": [
      "/usr/lib/python3.7/site-packages/ipykernel_launcher.py:2: DeprecationWarning: Calling np.sum(generator) is deprecated, and in the future will give a different result. Use np.sum(np.fromiter(generator)) or the python sum builtin instead.\n",
      "  \n",
      "/usr/lib/python3.7/site-packages/ipykernel_launcher.py:3: DeprecationWarning: Calling np.sum(generator) is deprecated, and in the future will give a different result. Use np.sum(np.fromiter(generator)) or the python sum builtin instead.\n",
      "  This is separate from the ipykernel package so we can avoid doing imports until\n",
      "/usr/lib/python3.7/site-packages/ipykernel_launcher.py:4: DeprecationWarning: Calling np.sum(generator) is deprecated, and in the future will give a different result. Use np.sum(np.fromiter(generator)) or the python sum builtin instead.\n",
      "  after removing the cwd from sys.path.\n"
     ]
    }
   ],
   "source": []
  },
  {
   "cell_type": "code",
   "execution_count": 53,
   "metadata": {},
   "outputs": [
    {
     "data": {
      "text/plain": [
       "1459973871.5936494"
      ]
     },
     "execution_count": 53,
     "metadata": {},
     "output_type": "execute_result"
    }
   ],
   "source": [
    "sum_comb - prod_comb"
   ]
  },
  {
   "cell_type": "code",
   "execution_count": 31,
   "metadata": {},
   "outputs": [
    {
     "data": {
      "text/plain": [
       "<matplotlib.axes._subplots.AxesSubplot at 0x7f4ca16b04a8>"
      ]
     },
     "execution_count": 31,
     "metadata": {},
     "output_type": "execute_result"
    },
    {
     "data": {
      "image/png": "[encoded data removed]",
      "text/plain": [
       "<Figure size 432x288 with 2 Axes>"
      ]
     },
     "metadata": {
      "needs_background": "light"
     },
     "output_type": "display_data"
    }
   ],
   "source": []
  },
  {
   "cell_type": "markdown",
   "metadata": {},
   "source": [
    "# Random with same fraction of white pixels"
   ]
  },
  {
   "cell_type": "code",
   "execution_count": 5,
   "metadata": {},
   "outputs": [
    {
     "name": "stderr",
     "output_type": "stream",
     "text": [
      "100%|██████████| 100/100 [01:15<00:00,  1.30it/s]"
     ]
    },
    {
     "name": "stdout",
     "output_type": "stream",
     "text": [
      "niou            0.14 0.02\n",
      "ari             -0.00 0.00\n",
      "f0_ari          0.00 0.00\n",
      "f1_ari          0.00 0.00\n",
      "ff_ari          -0.17 0.01\n",
      "siou_normal     0.01 0.01\n",
      "siou_prop       0.00 0.00\n",
      "siou_inv        0.02 0.02\n",
      "0.14 $\\pm$ 0.02 & -0.00 $\\pm$ 0.00 & 0.00 $\\pm$ 0.00 & 0.00 $\\pm$ 0.00 & -0.17 $\\pm$ 0.01 & 0.01 $\\pm$ 0.01 & 0.00 $\\pm$ 0.00 & 0.02 $\\pm$ 0.02 & "
     ]
    },
    {
     "name": "stderr",
     "output_type": "stream",
     "text": [
      "\n"
     ]
    }
   ],
   "source": [
    "lst = ['niou', 'ari', 'f0_ari', 'f1_ari', 'ff_ari', 'siou_normal', 'siou_prop', 'siou_inv']\n",
    "results = {k:[] for k in lst}\n",
    "\n",
    "\n",
    "for i in tqdm.trange(100):\n",
    "    N = np.random.randint(25, 40)\n",
    "    circs = tests.uniform_random_circles(N, 55, 450, 10, 50, 5)\n",
    "    slices = np.zeros((N, 512, 512), np.uint8)\n",
    "    image = np.zeros((512, 512), np.uint8)\n",
    "    for j, (c, r) in enumerate(circs):\n",
    "        slices[j] = cv2.circle(slices[j], c, r, 1, -1)\n",
    "        image = cv2.circle(image, c, r, 1, -1)\n",
    "    p = image.sum()/image.size\n",
    "    random_target = np.random.rand(*image.shape)\n",
    "    random_target = (random_target < p).astype(np.uint8)\n",
    "    \n",
    "    for normalize in ['normal', 'prop', 'inv']:\n",
    "        results['siou_'+normalize].append(siou(random_target, slices, normalize=normalize))\n",
    "    \n",
    "    orig = image\n",
    "    img = random_target\n",
    "    _, x = cv2.connectedComponents(orig, connectivity=8)\n",
    "    _, y = cv2.connectedComponents(img, connectivity=8)\n",
    "    results['ari'].append(adjusted_rand_score(x.reshape(-1), y.reshape(-1)))\n",
    "    \n",
    "    idx = orig != 0\n",
    "    results['f0_ari'].append(adjusted_rand_score(x[idx], y[idx]))\n",
    "    \n",
    "    idx = img != 0\n",
    "    results['f1_ari'].append(adjusted_rand_score(x[idx], y[idx]))\n",
    "    \n",
    "    idx = (orig != 0) | (y != 0)\n",
    "    results['ff_ari'].append(adjusted_rand_score(x[idx], y[idx]))\n",
    "    \n",
    "    orig = orig.astype(bool)\n",
    "    img = img.astype(bool)\n",
    "    results['niou'].append((orig&img).sum()/(orig|img).sum())\n",
    "    \n",
    "for k in lst:\n",
    "    ar = np.array(results[k])\n",
    "    mean, std = ar.mean(), ar.std()\n",
    "    print(f'{k:15s} {mean:.2f} {std:.2f}')\n",
    "    \n",
    "for k in lst:\n",
    "    ar = np.array(results[k])\n",
    "    mean, std = ar.mean(), ar.std()\n",
    "    print(f'{mean:.2f} $\\pm$ {std:.2f}', end=' & ')"
   ]
  },
  {
   "cell_type": "code",
   "execution_count": 12,
   "metadata": {},
   "outputs": [
    {
     "data": {
      "text/plain": [
       "17004"
      ]
     },
     "execution_count": 12,
     "metadata": {},
     "output_type": "execute_result"
    }
   ],
   "source": [
    "y.max()"
   ]
  },
  {
   "cell_type": "markdown",
   "metadata": {},
   "source": [
    "## $n = 1 to 50$"
   ]
  },
  {
   "cell_type": "code",
   "execution_count": 6,
   "metadata": {},
   "outputs": [],
   "source": [
    "frac = []\n",
    "ious_5 = []\n",
    "ious_p = []\n",
    "for i in range(100):\n",
    "    n = np.random.randint(1, 70)\n",
    "    circs = tests.uniform_random_circles(n, 55, 450, 10, 40, 5)\n",
    "    image = np.zeros((512, 512), np.uint8)\n",
    "    for j, (c, r) in enumerate(circs):\n",
    "        image = cv2.circle(image, c, r, 1, -1)\n",
    "    orig = image.astype(bool)\n",
    "    p = orig.sum()/orig.size\n",
    "   \n",
    "    frac.append(p)\n",
    "    \n",
    "    random_target = np.random.rand(*image.shape)\n",
    "    random_target = random_target > .5\n",
    "    ious_5.append((orig&random_target).sum()/(orig|random_target).sum())\n",
    "    \n",
    "    random_target = np.random.rand(*image.shape)\n",
    "    random_target = random_target < p\n",
    "    ious_p.append((orig&random_target).sum()/(orig|random_target).sum())"
   ]
  },
  {
   "cell_type": "code",
   "execution_count": 7,
   "metadata": {},
   "outputs": [
    {
     "data": {
      "text/plain": [
       "<matplotlib.legend.Legend at 0x7f78956eaf60>"
      ]
     },
     "execution_count": 7,
     "metadata": {},
     "output_type": "execute_result"
    },
    {
     "data": {
      "image/png": "[encoded data removed]",
      "text/plain": [
       "<Figure size 432x288 with 1 Axes>"
      ]
     },
     "metadata": {
      "needs_background": "light"
     },
     "output_type": "display_data"
    }
   ],
   "source": [
    "x = np.linspace(0.001, 1, 100)\n",
    "y = x / (1+x)\n",
    "\n",
    "plt.plot(x, y, label=r'$\\frac{x}{1 + x}$')\n",
    "plt.scatter(frac, ious_5, marker='x', label=\"Observed\")\n",
    "plt.xlim(0, .5)\n",
    "plt.legend()\n",
    "# plt.plot(x, x/2)\n",
    "# plt.scatter(frac, intersects)"
   ]
  },
  {
   "cell_type": "code",
   "execution_count": null,
   "metadata": {},
   "outputs": [],
   "source": [
    "x = np.linspace(0.001, 1, 100)\n",
    "y = x / (2-x)\n",
    "\n",
    "plt.plot(x, y, label=r'$\\frac{x}{2 - x}$')\n",
    "plt.scatter(frac, ious_p, marker='x', label=\"Observed\")\n",
    "plt.xlim(0, .5)\n",
    "plt.legend()\n",
    "# plt.plot(x, x/2)\n",
    "# plt.scatter(frac, intersects)"
   ]
  },
  {
   "cell_type": "markdown",
   "metadata": {},
   "source": [
    "# circles as random "
   ]
  },
  {
   "cell_type": "code",
   "execution_count": null,
   "metadata": {},
   "outputs": [],
   "source": []
  },
  {
   "cell_type": "code",
   "execution_count": 3,
   "metadata": {},
   "outputs": [
    {
     "name": "stderr",
     "output_type": "stream",
     "text": [
      "  0%|          | 0/100 [00:00<?, ?it/s]\n"
     ]
    },
    {
     "ename": "NameError",
     "evalue": "name 'np' is not defined",
     "output_type": "error",
     "traceback": [
      "\u001b[0;31m---------------------------------------------------------------------------\u001b[0m",
      "\u001b[0;31mNameError\u001b[0m                                 Traceback (most recent call last)",
      "\u001b[0;32m<ipython-input-3-a01c96ecb619>\u001b[0m in \u001b[0;36m<module>\u001b[0;34m\u001b[0m\n\u001b[1;32m      5\u001b[0m \u001b[0;32mfor\u001b[0m \u001b[0mi\u001b[0m \u001b[0;32min\u001b[0m \u001b[0mtqdm\u001b[0m\u001b[0;34m.\u001b[0m\u001b[0mtrange\u001b[0m\u001b[0;34m(\u001b[0m\u001b[0;36m100\u001b[0m\u001b[0;34m)\u001b[0m\u001b[0;34m:\u001b[0m\u001b[0;34m\u001b[0m\u001b[0;34m\u001b[0m\u001b[0m\n\u001b[1;32m      6\u001b[0m     \u001b[0mcircs\u001b[0m \u001b[0;34m=\u001b[0m \u001b[0mtests\u001b[0m\u001b[0;34m.\u001b[0m\u001b[0muniform_random_circles\u001b[0m\u001b[0;34m(\u001b[0m\u001b[0;36m25\u001b[0m\u001b[0;34m,\u001b[0m \u001b[0;36m55\u001b[0m\u001b[0;34m,\u001b[0m \u001b[0;36m450\u001b[0m\u001b[0;34m,\u001b[0m \u001b[0;36m10\u001b[0m\u001b[0;34m,\u001b[0m \u001b[0;36m50\u001b[0m\u001b[0;34m,\u001b[0m \u001b[0;36m5\u001b[0m\u001b[0;34m)\u001b[0m\u001b[0;34m\u001b[0m\u001b[0;34m\u001b[0m\u001b[0m\n\u001b[0;32m----> 7\u001b[0;31m     \u001b[0mslices\u001b[0m \u001b[0;34m=\u001b[0m \u001b[0mnp\u001b[0m\u001b[0;34m.\u001b[0m\u001b[0mzeros\u001b[0m\u001b[0;34m(\u001b[0m\u001b[0;34m(\u001b[0m\u001b[0;36m25\u001b[0m\u001b[0;34m,\u001b[0m \u001b[0;36m512\u001b[0m\u001b[0;34m,\u001b[0m \u001b[0;36m512\u001b[0m\u001b[0;34m)\u001b[0m\u001b[0;34m,\u001b[0m \u001b[0mnp\u001b[0m\u001b[0;34m.\u001b[0m\u001b[0muint8\u001b[0m\u001b[0;34m)\u001b[0m\u001b[0;34m\u001b[0m\u001b[0;34m\u001b[0m\u001b[0m\n\u001b[0m\u001b[1;32m      8\u001b[0m     \u001b[0morig\u001b[0m \u001b[0;34m=\u001b[0m \u001b[0mnp\u001b[0m\u001b[0;34m.\u001b[0m\u001b[0mzeros\u001b[0m\u001b[0;34m(\u001b[0m\u001b[0;34m(\u001b[0m\u001b[0;36m512\u001b[0m\u001b[0;34m,\u001b[0m \u001b[0;36m512\u001b[0m\u001b[0;34m)\u001b[0m\u001b[0;34m,\u001b[0m \u001b[0mnp\u001b[0m\u001b[0;34m.\u001b[0m\u001b[0muint8\u001b[0m\u001b[0;34m)\u001b[0m\u001b[0;34m\u001b[0m\u001b[0;34m\u001b[0m\u001b[0m\n\u001b[1;32m      9\u001b[0m     \u001b[0;32mfor\u001b[0m \u001b[0mj\u001b[0m\u001b[0;34m,\u001b[0m \u001b[0;34m(\u001b[0m\u001b[0mc\u001b[0m\u001b[0;34m,\u001b[0m \u001b[0mr\u001b[0m\u001b[0;34m)\u001b[0m \u001b[0;32min\u001b[0m \u001b[0menumerate\u001b[0m\u001b[0;34m(\u001b[0m\u001b[0mcircs\u001b[0m\u001b[0;34m)\u001b[0m\u001b[0;34m:\u001b[0m\u001b[0;34m\u001b[0m\u001b[0;34m\u001b[0m\u001b[0m\n",
      "\u001b[0;31mNameError\u001b[0m: name 'np' is not defined"
     ]
    }
   ],
   "source": [
    "lst = ['niou', 'ari', 'f0_ari', 'f1_ari', 'ff_ari', 'siou_normal', 'siou_prop', 'siou_inv']\n",
    "results = {k:[] for k in lst}\n",
    "\n",
    "\n",
    "for i in tqdm.trange(100):\n",
    "    circs = tests.uniform_random_circles(25, 55, 450, 10, 50, 5)\n",
    "    slices = np.zeros((25, 512, 512), np.uint8)\n",
    "    orig = np.zeros((512, 512), np.uint8)\n",
    "    for j, (c, r) in enumerate(circs):\n",
    "        slices[j] = cv2.circle(slices[j], c, r, 1, -1)\n",
    "        orig = cv2.circle(orig, c, r, 1, -1)\n",
    "        \n",
    "    img = np.zeros((512,512), np.uint8)\n",
    "#     n = np.random.randint(1, 25)\n",
    "    for c, r in tests.uniform_random_circles(25, 55, 450, 10, 50, 5):\n",
    "        img = cv2.circle(img, c, r, 1, -1)\n",
    "        \n",
    "    \n",
    "    for normalize in ['normal', 'prop', 'inv']:\n",
    "        results['siou_'+normalize].append(siou(random_target, slices, normalize=normalize))\n",
    "    \n",
    "    \n",
    "    _, x = cv2.connectedComponents(orig, connectivity=8)\n",
    "    _, y = cv2.connectedComponents(img, connectivity=8)\n",
    "    results['ari'].append(adjusted_rand_score(x.reshape(-1), y.reshape(-1)))\n",
    "    \n",
    "    idx = orig != 0\n",
    "    results['f0_ari'].append(adjusted_rand_score(x[idx], y[idx]))\n",
    "    \n",
    "    idx = img != 0\n",
    "    results['f1_ari'].append(adjusted_rand_score(x[idx], y[idx]))\n",
    "    \n",
    "    idx = (orig != 0) | (y != 0)\n",
    "    results['ff_ari'].append(adjusted_rand_score(x[idx], y[idx]))\n",
    "    \n",
    "    orig = orig.astype(bool)\n",
    "    img = img.astype(bool)\n",
    "    results['niou'].append((orig&img).sum()/(orig|img).sum())\n",
    "    \n",
    "for k in lst:\n",
    "    ar = np.array(results[k])\n",
    "    mean, std = ar.mean(), ar.std()\n",
    "    print(f'{k:15s} {mean:.2f} {std:.2f}')\n",
    "    \n",
    "for k in lst:\n",
    "    ar = np.array(results[k])\n",
    "    mean, std = ar.mean(), ar.std()\n",
    "    print(f'{mean:.2f}', end=' & ')"
   ]
  },
  {
   "cell_type": "code",
   "execution_count": 22,
   "metadata": {},
   "outputs": [
    {
     "data": {
      "text/plain": [
       "<matplotlib.image.AxesImage at 0x7f783cf9a7b8>"
      ]
     },
     "execution_count": 22,
     "metadata": {},
     "output_type": "execute_result"
    },
    {
     "data": {
      "image/png": "[encoded data removed]",
      "text/plain": [
       "<Figure size 432x288 with 2 Axes>"
      ]
     },
     "metadata": {
      "needs_background": "light"
     },
     "output_type": "display_data"
    }
   ],
   "source": [
    "subplot(1, 2, 1)\n",
    "imshow(orig)\n",
    "subplot(1, 2, 2)\n",
    "imshow(img)"
   ]
  },
  {
   "cell_type": "code",
   "execution_count": 25,
   "metadata": {},
   "outputs": [
    {
     "data": {
      "text/plain": [
       "<matplotlib.image.AxesImage at 0x7f783cee7da0>"
      ]
     },
     "execution_count": 25,
     "metadata": {},
     "output_type": "execute_result"
    },
    {
     "data": {
      "image/png": "[encoded data removed]",
      "text/plain": [
       "<Figure size 432x288 with 1 Axes>"
      ]
     },
     "metadata": {
      "needs_background": "light"
     },
     "output_type": "display_data"
    }
   ],
   "source": [
    "imshow(img*orig)"
   ]
  },
  {
   "cell_type": "code",
   "execution_count": null,
   "metadata": {},
   "outputs": [],
   "source": [
    "orig[~idx] = 0\n",
    "img[~idx] = 0\n",
    "subplot(1, 2, 1)\n",
    "imshow(orig)\n",
    "subplot(1, 2, 2)\n",
    "imshow(img)"
   ]
  },
  {
   "cell_type": "markdown",
   "metadata": {},
   "source": [
    "## Size of largest connected component in a square"
   ]
  },
  {
   "cell_type": "code",
   "execution_count": null,
   "metadata": {},
   "outputs": [],
   "source": [
    "for sz in tqdm.tqdm([16, 32, 128, 256, 512]):\n",
    "    probs = np.linspace(0.1, 1, 100)\n",
    "    avgs = []\n",
    "    h,w = sz, sz\n",
    "    size = h*w\n",
    "    for p in probs:\n",
    "        avg = 0\n",
    "        for i in range(100):\n",
    "            img = (np.random.rand(h, w) < p).astype(np.uint8)\n",
    "            a,b,c,d = cv2.connectedComponentsWithStats(img)\n",
    "            avg += c[1:, cv2.CC_STAT_AREA].max()\n",
    "        avg /= 100\n",
    "        avg /= (h*w)\n",
    "        avgs.append(avg)\n",
    "    plt.plot(probs, avgs, label=f'{sz}x{sz}')\n",
    "plt.legend()"
   ]
  }
 ],
 "metadata": {
  "kernelspec": {
   "display_name": "Python 3",
   "language": "python",
   "name": "python3"
  },
  "language_info": {
   "codemirror_mode": {
    "name": "ipython",
    "version": 3
   },
   "file_extension": ".py",
   "mimetype": "text/x-python",
   "name": "python",
   "nbconvert_exporter": "python",
   "pygments_lexer": "ipython3",
   "version": "3.7.3"
  }
 },
 "nbformat": 4,
 "nbformat_minor": 2
}
